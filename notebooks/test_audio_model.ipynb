{
 "cells": [
  {
   "cell_type": "code",
   "execution_count": 1,
   "id": "58fa9b9e",
   "metadata": {},
   "outputs": [],
   "source": [
    "import emotion.models.audio_model\n",
    "from pathlib import Path"
   ]
  },
  {
   "cell_type": "code",
   "execution_count": 3,
   "id": "25b18aa3",
   "metadata": {},
   "outputs": [
    {
     "data": {
      "text/plain": [
       "<module 'emotion.models.audio_model' from '/home/graymo/devl/bdeb/a62/emotion/emotion/models/audio_model.py'>"
      ]
     },
     "execution_count": 3,
     "metadata": {},
     "output_type": "execute_result"
    }
   ],
   "source": [
    "import importlib\n",
    "importlib.reload(emotion.models.audio_model)"
   ]
  },
  {
   "cell_type": "code",
   "execution_count": 2,
   "id": "7b3cef04",
   "metadata": {},
   "outputs": [],
   "source": [
    "t_audio_model = emotion.models.audio_model.AudioModel()"
   ]
  },
  {
   "cell_type": "code",
   "execution_count": 3,
   "id": "daf82cf7",
   "metadata": {},
   "outputs": [
    {
     "data": {
      "text/plain": [
       "{'_model': SVC(C=5, gamma='auto', random_state=101),\n",
       " 'class_names': {0: 'none', 1: 'positive', 2: 'negative'}}"
      ]
     },
     "execution_count": 3,
     "metadata": {},
     "output_type": "execute_result"
    }
   ],
   "source": [
    "t_audio_model.__dict__"
   ]
  },
  {
   "cell_type": "code",
   "execution_count": 5,
   "id": "652d88b8",
   "metadata": {},
   "outputs": [
    {
     "name": "stdout",
     "output_type": "stream",
     "text": [
      "positive\n"
     ]
    }
   ],
   "source": [
    "audio_path = Path(\"../..\")\n",
    "test_files = ['positive_test']\n",
    "# test_files = ['neutral_2']\n",
    "test_positive = \\\n",
    "    t_audio_model.preprocess(audio_path, test_files)\n",
    "prediction = t_audio_model.predict(test_positive)\n",
    "print(t_audio_model.class_names[prediction[0]])\n",
    "#    extract_audio_features_mean(\"../../positive_test.wav\", len_secs=3,\n",
    "#                                  n_mfccs=40, rms=False, zrc=False)\n",
    "#print(test_positive)\n",
    "#test_positive = scaler.transform(test_positive.reshape(1, -1))\n",
    "#print(test_positive)\n",
    "# test_positive_pred = svc_model.predict(test_positive)\n",
    "# print(test_positive_pred)"
   ]
  },
  {
   "cell_type": "code",
   "execution_count": null,
   "id": "7e68f3a2",
   "metadata": {},
   "outputs": [],
   "source": []
  }
 ],
 "metadata": {
  "kernelspec": {
   "display_name": "Python 3 (ipykernel)",
   "language": "python",
   "name": "python3"
  },
  "language_info": {
   "codemirror_mode": {
    "name": "ipython",
    "version": 3
   },
   "file_extension": ".py",
   "mimetype": "text/x-python",
   "name": "python",
   "nbconvert_exporter": "python",
   "pygments_lexer": "ipython3",
   "version": "3.8.10"
  }
 },
 "nbformat": 4,
 "nbformat_minor": 5
}

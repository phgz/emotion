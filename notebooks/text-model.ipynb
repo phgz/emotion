{
 "cells": [
  {
   "cell_type": "code",
   "execution_count": 19,
   "metadata": {},
   "outputs": [],
   "source": [
    "import os\n",
    "import re\n",
    "import sys\n",
    "import string\n",
    "import glob\n",
    "\n",
    "import pandas as pd\n",
    "import numpy as np\n",
    "import matplotlib.pyplot as plt\n",
    "\n",
    "from pathlib import Path\n",
    "from collections import Counter\n",
    "\n",
    "\n",
    "import numpy as np\n",
    "import pandas as pd\n",
    "\n",
    "import tensorflow as tf\n",
    "import tensorflow_hub as hub\n",
    "\n",
    "\n",
    "\n",
    "from pathlib import Path\n",
    "from transformers import BertTokenizerFast, TFBertModel\n",
    "from sklearn.model_selection import train_test_split as tts\n"
   ]
  },
  {
   "cell_type": "code",
   "execution_count": 2,
   "metadata": {},
   "outputs": [],
   "source": [
    "text_dir = \"../data/raw/text\"\n",
    "labels_dir =  \"../data/raw/labels\"\n",
    "audio_dir = \"../data/raw/audio\"\n",
    "\n"
   ]
  },
  {
   "cell_type": "markdown",
   "metadata": {},
   "source": [
    "## Nettoyage, traitement etc\n",
    "Surtout utilisé pour prétraitement, mais une partie utile pour inférence de nouvelles données"
   ]
  },
  {
   "cell_type": "code",
   "execution_count": 3,
   "metadata": {},
   "outputs": [],
   "source": [
    "#On va chercher tout les fichiers textes dans le répertoire\n",
    "text_files = glob.glob(f\"{text_dir}/*.txt\")\n",
    "\n",
    "## Chaque ligne de texte est precede d'un \"stamp\" qui indique le clip de l'enregistrement etc\n",
    "def remove_stamps_str(line)->str:\n",
    "    stamp = re.search('.+___', line).group(0)\n",
    "    new_line = line.strip(stamp)\n",
    "    return new_line\n",
    "\n",
    "\n",
    "## Pour python < 3.9, sinon str.removeprefix() de base\n",
    "## Fonctioon juste utile sur ma machine locale\n",
    "def removeprefix(self: str, prefix: str, /) -> str:\n",
    "    if self.startswith(prefix):\n",
    "        return self[len(prefix):]\n",
    "    else:\n",
    "        return self[:]\n"
   ]
  },
  {
   "cell_type": "markdown",
   "metadata": {},
   "source": [
    "Génération d'une liste de textes avec leur ID pour les identifier dans dataframe.\n",
    "Utilisation de Generator pour vitesse/mémoire"
   ]
  },
  {
   "cell_type": "code",
   "execution_count": 4,
   "metadata": {},
   "outputs": [],
   "source": [
    "\n",
    "\n",
    "def text_list_generator(files_list, text_dir):\n",
    "    text_list = []\n",
    "    for filename in files_list:\n",
    "        with open(file = filename, encoding = 'utf-8') as f:\n",
    "\n",
    "            ##WINDOWS SPECIFIC\n",
    "            if sys.platform == 'win32':\n",
    "                videoid = removeprefix(filename, text_dir + '\\\\').rstrip('.txt')\n",
    "            else :\n",
    "                videoid = removeprefix(filename, text_dir + '/').rstrip('.txt')\n",
    "            lines = f.readlines()\n",
    "            for line_number, text_line in enumerate(lines):\n",
    "                clean_line = remove_stamps_str(text_line)\n",
    "                clip_id = videoid +'_'+ text_line.split('___')[1]\n",
    "                #clip_id = videoid +'_' +str(line_number)\n",
    "                yield (clip_id, clean_line.rstrip())\n"
   ]
  },
  {
   "cell_type": "markdown",
   "metadata": {},
   "source": [
    "Simple traitement du texte.\n",
    "Avec l'utilisation d'un Tokenizer pré-entrainé lié à BERT, il est inutile de retirer les stopwords ou de lemmatiser, donc on s'assure surtout de retirer les charactères problématiques"
   ]
  },
  {
   "cell_type": "code",
   "execution_count": 5,
   "metadata": {},
   "outputs": [],
   "source": [
    "#Retire tous les timestamps en début de ligne, présents dans chaque transcript\n",
    "def remove_stamps_str(line)->str:\n",
    "    stamp = re.search('.+___', line).group(0)\n",
    "    new_line = line.strip(stamp)\n",
    "    return new_line\n",
    "\n",
    "#Retire les charactères non-ascii \n",
    "def remove_nonascii(line)->str:\n",
    "    ascii_line = line.encode(encoding = 'ascii', errors = 'ignore').decode()\n",
    "    return ascii_line\n",
    "\n",
    "#met tout en minuscules, retire les nombres\n",
    "def clean_punct_digits(line)->str:\n",
    "    new_line = line.translate(str.maketrans('', '', string.punctuation))\n",
    "    new_line = ' '.join([word.lower() for word in new_line.split() if (len(word) >=2 and word.isalpha())])\n",
    "    return new_line\n",
    "\n"
   ]
  },
  {
   "cell_type": "markdown",
   "metadata": {},
   "source": [
    "# DF des labels"
   ]
  },
  {
   "cell_type": "code",
   "execution_count": 6,
   "metadata": {},
   "outputs": [
    {
     "data": {
      "text/html": [
       "<div>\n",
       "<style scoped>\n",
       "    .dataframe tbody tr th:only-of-type {\n",
       "        vertical-align: middle;\n",
       "    }\n",
       "\n",
       "    .dataframe tbody tr th {\n",
       "        vertical-align: top;\n",
       "    }\n",
       "\n",
       "    .dataframe thead th {\n",
       "        text-align: right;\n",
       "    }\n",
       "</style>\n",
       "<table border=\"1\" class=\"dataframe\">\n",
       "  <thead>\n",
       "    <tr style=\"text-align: right;\">\n",
       "      <th></th>\n",
       "      <th>id</th>\n",
       "      <th>anger</th>\n",
       "      <th>disgust</th>\n",
       "      <th>fear</th>\n",
       "      <th>happiness</th>\n",
       "      <th>sadness</th>\n",
       "      <th>surprise</th>\n",
       "      <th>sentiment</th>\n",
       "    </tr>\n",
       "  </thead>\n",
       "  <tbody>\n",
       "    <tr>\n",
       "      <th>0</th>\n",
       "      <td>--qXJuDtHPw_5</td>\n",
       "      <td>0</td>\n",
       "      <td>0</td>\n",
       "      <td>0</td>\n",
       "      <td>1</td>\n",
       "      <td>0</td>\n",
       "      <td>0</td>\n",
       "      <td>1</td>\n",
       "    </tr>\n",
       "    <tr>\n",
       "      <th>1</th>\n",
       "      <td>-3g5yACwYnA_10</td>\n",
       "      <td>0</td>\n",
       "      <td>0</td>\n",
       "      <td>0</td>\n",
       "      <td>0</td>\n",
       "      <td>0</td>\n",
       "      <td>0</td>\n",
       "      <td>1</td>\n",
       "    </tr>\n",
       "    <tr>\n",
       "      <th>2</th>\n",
       "      <td>-3g5yACwYnA_13</td>\n",
       "      <td>0</td>\n",
       "      <td>0</td>\n",
       "      <td>0</td>\n",
       "      <td>0</td>\n",
       "      <td>0</td>\n",
       "      <td>0</td>\n",
       "      <td>1</td>\n",
       "    </tr>\n",
       "    <tr>\n",
       "      <th>3</th>\n",
       "      <td>-3g5yACwYnA_2</td>\n",
       "      <td>0</td>\n",
       "      <td>0</td>\n",
       "      <td>0</td>\n",
       "      <td>1</td>\n",
       "      <td>0</td>\n",
       "      <td>0</td>\n",
       "      <td>0</td>\n",
       "    </tr>\n",
       "    <tr>\n",
       "      <th>4</th>\n",
       "      <td>-3g5yACwYnA_3</td>\n",
       "      <td>0</td>\n",
       "      <td>0</td>\n",
       "      <td>0</td>\n",
       "      <td>0</td>\n",
       "      <td>0</td>\n",
       "      <td>0</td>\n",
       "      <td>0</td>\n",
       "    </tr>\n",
       "    <tr>\n",
       "      <th>...</th>\n",
       "      <td>...</td>\n",
       "      <td>...</td>\n",
       "      <td>...</td>\n",
       "      <td>...</td>\n",
       "      <td>...</td>\n",
       "      <td>...</td>\n",
       "      <td>...</td>\n",
       "      <td>...</td>\n",
       "    </tr>\n",
       "    <tr>\n",
       "      <th>21860</th>\n",
       "      <td>zwTrXwi54us_6</td>\n",
       "      <td>0</td>\n",
       "      <td>0</td>\n",
       "      <td>0</td>\n",
       "      <td>0</td>\n",
       "      <td>0</td>\n",
       "      <td>0</td>\n",
       "      <td>0</td>\n",
       "    </tr>\n",
       "    <tr>\n",
       "      <th>21861</th>\n",
       "      <td>zwTrXwi54us_7</td>\n",
       "      <td>0</td>\n",
       "      <td>0</td>\n",
       "      <td>0</td>\n",
       "      <td>0</td>\n",
       "      <td>0</td>\n",
       "      <td>0</td>\n",
       "      <td>0</td>\n",
       "    </tr>\n",
       "    <tr>\n",
       "      <th>21862</th>\n",
       "      <td>zwTrXwi54us_8</td>\n",
       "      <td>0</td>\n",
       "      <td>0</td>\n",
       "      <td>0</td>\n",
       "      <td>0</td>\n",
       "      <td>0</td>\n",
       "      <td>0</td>\n",
       "      <td>0</td>\n",
       "    </tr>\n",
       "    <tr>\n",
       "      <th>21863</th>\n",
       "      <td>zwTrXwi54us_9</td>\n",
       "      <td>0</td>\n",
       "      <td>0</td>\n",
       "      <td>0</td>\n",
       "      <td>0</td>\n",
       "      <td>0</td>\n",
       "      <td>0</td>\n",
       "      <td>1</td>\n",
       "    </tr>\n",
       "    <tr>\n",
       "      <th>21864</th>\n",
       "      <td>zx4W0Vuus-I_1</td>\n",
       "      <td>0</td>\n",
       "      <td>0</td>\n",
       "      <td>0</td>\n",
       "      <td>1</td>\n",
       "      <td>0</td>\n",
       "      <td>0</td>\n",
       "      <td>1</td>\n",
       "    </tr>\n",
       "  </tbody>\n",
       "</table>\n",
       "<p>21865 rows × 8 columns</p>\n",
       "</div>"
      ],
      "text/plain": [
       "                   id  anger  disgust  fear  happiness  sadness  surprise  \\\n",
       "0       --qXJuDtHPw_5      0        0     0          1        0         0   \n",
       "1      -3g5yACwYnA_10      0        0     0          0        0         0   \n",
       "2      -3g5yACwYnA_13      0        0     0          0        0         0   \n",
       "3       -3g5yACwYnA_2      0        0     0          1        0         0   \n",
       "4       -3g5yACwYnA_3      0        0     0          0        0         0   \n",
       "...               ...    ...      ...   ...        ...      ...       ...   \n",
       "21860   zwTrXwi54us_6      0        0     0          0        0         0   \n",
       "21861   zwTrXwi54us_7      0        0     0          0        0         0   \n",
       "21862   zwTrXwi54us_8      0        0     0          0        0         0   \n",
       "21863   zwTrXwi54us_9      0        0     0          0        0         0   \n",
       "21864   zx4W0Vuus-I_1      0        0     0          1        0         0   \n",
       "\n",
       "       sentiment  \n",
       "0              1  \n",
       "1              1  \n",
       "2              1  \n",
       "3              0  \n",
       "4              0  \n",
       "...          ...  \n",
       "21860          0  \n",
       "21861          0  \n",
       "21862          0  \n",
       "21863          1  \n",
       "21864          1  \n",
       "\n",
       "[21865 rows x 8 columns]"
      ]
     },
     "metadata": {},
     "output_type": "display_data"
    }
   ],
   "source": [
    "label_df = pd.read_csv(\"../data/interim/labels/interim.csv\")\n",
    "display(label_df)"
   ]
  },
  {
   "cell_type": "markdown",
   "metadata": {},
   "source": [
    "# Données texte"
   ]
  },
  {
   "cell_type": "markdown",
   "metadata": {},
   "source": [
    "À partir des fichiers .txt, génère un dataframe qui contient une entrée pour chaque ligne de texte"
   ]
  },
  {
   "cell_type": "code",
   "execution_count": 7,
   "metadata": {},
   "outputs": [],
   "source": [
    "corpus = (text for text in text_list_generator(text_files, text_dir))\n",
    "df_text = pd.DataFrame(corpus)\n",
    "df_text.columns = ['id', 'text']"
   ]
  },
  {
   "cell_type": "code",
   "execution_count": 8,
   "metadata": {},
   "outputs": [
    {
     "data": {
      "text/html": [
       "<div>\n",
       "<style scoped>\n",
       "    .dataframe tbody tr th:only-of-type {\n",
       "        vertical-align: middle;\n",
       "    }\n",
       "\n",
       "    .dataframe tbody tr th {\n",
       "        vertical-align: top;\n",
       "    }\n",
       "\n",
       "    .dataframe thead th {\n",
       "        text-align: right;\n",
       "    }\n",
       "</style>\n",
       "<table border=\"1\" class=\"dataframe\">\n",
       "  <thead>\n",
       "    <tr style=\"text-align: right;\">\n",
       "      <th></th>\n",
       "      <th>id</th>\n",
       "      <th>text</th>\n",
       "    </tr>\n",
       "  </thead>\n",
       "  <tbody>\n",
       "    <tr>\n",
       "      <th>0</th>\n",
       "      <td>--qXJuDtHPw_0</td>\n",
       "      <td>I see that there are three category of writers.</td>\n",
       "    </tr>\n",
       "    <tr>\n",
       "      <th>1</th>\n",
       "      <td>--qXJuDtHPw_1</td>\n",
       "      <td>I define them as being an author, a writer, an...</td>\n",
       "    </tr>\n",
       "    <tr>\n",
       "      <th>2</th>\n",
       "      <td>--qXJuDtHPw_2</td>\n",
       "      <td>An author, I like to classify as somebody who ...</td>\n",
       "    </tr>\n",
       "    <tr>\n",
       "      <th>3</th>\n",
       "      <td>--qXJuDtHPw_3</td>\n",
       "      <td>These are the well-known authors of our time a...</td>\n",
       "    </tr>\n",
       "    <tr>\n",
       "      <th>4</th>\n",
       "      <td>--qXJuDtHPw_4</td>\n",
       "      <td>Then, there is the writer.</td>\n",
       "    </tr>\n",
       "  </tbody>\n",
       "</table>\n",
       "</div>"
      ],
      "text/plain": [
       "              id                                               text\n",
       "0  --qXJuDtHPw_0    I see that there are three category of writers.\n",
       "1  --qXJuDtHPw_1  I define them as being an author, a writer, an...\n",
       "2  --qXJuDtHPw_2  An author, I like to classify as somebody who ...\n",
       "3  --qXJuDtHPw_3  These are the well-known authors of our time a...\n",
       "4  --qXJuDtHPw_4                         Then, there is the writer."
      ]
     },
     "metadata": {},
     "output_type": "display_data"
    }
   ],
   "source": [
    "display(df_text.head(5))"
   ]
  },
  {
   "cell_type": "markdown",
   "metadata": {},
   "source": [
    "Comme le texte contient des charactères non-conformes (non ascii, autres langues etc), et de la mauvaise ponctuation,\n",
    "on nettoie chaque entrée en retirant ponctuation, nombres et non-ascii."
   ]
  },
  {
   "cell_type": "code",
   "execution_count": 9,
   "metadata": {},
   "outputs": [
    {
     "data": {
      "text/html": [
       "<div>\n",
       "<style scoped>\n",
       "    .dataframe tbody tr th:only-of-type {\n",
       "        vertical-align: middle;\n",
       "    }\n",
       "\n",
       "    .dataframe tbody tr th {\n",
       "        vertical-align: top;\n",
       "    }\n",
       "\n",
       "    .dataframe thead th {\n",
       "        text-align: right;\n",
       "    }\n",
       "</style>\n",
       "<table border=\"1\" class=\"dataframe\">\n",
       "  <thead>\n",
       "    <tr style=\"text-align: right;\">\n",
       "      <th></th>\n",
       "      <th>id</th>\n",
       "      <th>text</th>\n",
       "      <th>clean_text</th>\n",
       "    </tr>\n",
       "  </thead>\n",
       "  <tbody>\n",
       "    <tr>\n",
       "      <th>0</th>\n",
       "      <td>--qXJuDtHPw_0</td>\n",
       "      <td>I see that there are three category of writers.</td>\n",
       "      <td>see that there are three category of writers</td>\n",
       "    </tr>\n",
       "    <tr>\n",
       "      <th>1</th>\n",
       "      <td>--qXJuDtHPw_1</td>\n",
       "      <td>I define them as being an author, a writer, an...</td>\n",
       "      <td>define them as being an author writer and stor...</td>\n",
       "    </tr>\n",
       "    <tr>\n",
       "      <th>2</th>\n",
       "      <td>--qXJuDtHPw_2</td>\n",
       "      <td>An author, I like to classify as somebody who ...</td>\n",
       "      <td>an author like to classify as somebody who wri...</td>\n",
       "    </tr>\n",
       "  </tbody>\n",
       "</table>\n",
       "</div>"
      ],
      "text/plain": [
       "              id                                               text  \\\n",
       "0  --qXJuDtHPw_0    I see that there are three category of writers.   \n",
       "1  --qXJuDtHPw_1  I define them as being an author, a writer, an...   \n",
       "2  --qXJuDtHPw_2  An author, I like to classify as somebody who ...   \n",
       "\n",
       "                                          clean_text  \n",
       "0       see that there are three category of writers  \n",
       "1  define them as being an author writer and stor...  \n",
       "2  an author like to classify as somebody who wri...  "
      ]
     },
     "metadata": {},
     "output_type": "display_data"
    }
   ],
   "source": [
    "df_text['text'] =  df_text.text.apply(remove_nonascii)\n",
    "df_text['clean_text'] = df_text.text.apply(lambda s : clean_punct_digits(s))\n",
    "\n",
    "display(df_text.head(3))"
   ]
  },
  {
   "cell_type": "code",
   "execution_count": 10,
   "metadata": {},
   "outputs": [
    {
     "data": {
      "text/html": [
       "<div>\n",
       "<style scoped>\n",
       "    .dataframe tbody tr th:only-of-type {\n",
       "        vertical-align: middle;\n",
       "    }\n",
       "\n",
       "    .dataframe tbody tr th {\n",
       "        vertical-align: top;\n",
       "    }\n",
       "\n",
       "    .dataframe thead th {\n",
       "        text-align: right;\n",
       "    }\n",
       "</style>\n",
       "<table border=\"1\" class=\"dataframe\">\n",
       "  <thead>\n",
       "    <tr style=\"text-align: right;\">\n",
       "      <th></th>\n",
       "      <th>id</th>\n",
       "      <th>text</th>\n",
       "      <th>clean_text</th>\n",
       "      <th>anger</th>\n",
       "      <th>disgust</th>\n",
       "      <th>fear</th>\n",
       "      <th>happiness</th>\n",
       "      <th>sadness</th>\n",
       "      <th>surprise</th>\n",
       "      <th>sentiment</th>\n",
       "    </tr>\n",
       "  </thead>\n",
       "  <tbody>\n",
       "    <tr>\n",
       "      <th>0</th>\n",
       "      <td>--qXJuDtHPw_5</td>\n",
       "      <td>I see that a writer is somebody who has an inc...</td>\n",
       "      <td>see that writer is somebody who has an incredi...</td>\n",
       "      <td>0</td>\n",
       "      <td>0</td>\n",
       "      <td>0</td>\n",
       "      <td>1</td>\n",
       "      <td>0</td>\n",
       "      <td>0</td>\n",
       "      <td>1</td>\n",
       "    </tr>\n",
       "    <tr>\n",
       "      <th>1</th>\n",
       "      <td>-3g5yACwYnA_2</td>\n",
       "      <td>Key Polymer brings a technical aspect to our o...</td>\n",
       "      <td>key polymer brings technical aspect to our ope...</td>\n",
       "      <td>0</td>\n",
       "      <td>0</td>\n",
       "      <td>0</td>\n",
       "      <td>1</td>\n",
       "      <td>0</td>\n",
       "      <td>0</td>\n",
       "      <td>0</td>\n",
       "    </tr>\n",
       "    <tr>\n",
       "      <th>2</th>\n",
       "      <td>-3g5yACwYnA_3</td>\n",
       "      <td>We're a huge user of adhesives for our operati...</td>\n",
       "      <td>were huge user of adhesives for our operation ...</td>\n",
       "      <td>0</td>\n",
       "      <td>0</td>\n",
       "      <td>0</td>\n",
       "      <td>0</td>\n",
       "      <td>0</td>\n",
       "      <td>0</td>\n",
       "      <td>0</td>\n",
       "    </tr>\n",
       "  </tbody>\n",
       "</table>\n",
       "</div>"
      ],
      "text/plain": [
       "              id                                               text  \\\n",
       "0  --qXJuDtHPw_5  I see that a writer is somebody who has an inc...   \n",
       "1  -3g5yACwYnA_2  Key Polymer brings a technical aspect to our o...   \n",
       "2  -3g5yACwYnA_3  We're a huge user of adhesives for our operati...   \n",
       "\n",
       "                                          clean_text  anger  disgust  fear  \\\n",
       "0  see that writer is somebody who has an incredi...      0        0     0   \n",
       "1  key polymer brings technical aspect to our ope...      0        0     0   \n",
       "2  were huge user of adhesives for our operation ...      0        0     0   \n",
       "\n",
       "   happiness  sadness  surprise  sentiment  \n",
       "0          1        0         0          1  \n",
       "1          1        0         0          0  \n",
       "2          0        0         0          0  "
      ]
     },
     "metadata": {},
     "output_type": "display_data"
    }
   ],
   "source": [
    "frame = pd.merge(df_text, label_df, on = 'id', how = 'inner')\n",
    "display(frame.head(3))\n"
   ]
  },
  {
   "cell_type": "markdown",
   "metadata": {},
   "source": [
    "Création d'un nouveau dataframe, \"new polarity\", pour n'utiliser que le texte nettoyé et la polarité du sentiment, de 0 pour négatif à 2 pour positif."
   ]
  },
  {
   "cell_type": "code",
   "execution_count": 11,
   "metadata": {},
   "outputs": [
    {
     "data": {
      "text/html": [
       "<div>\n",
       "<style scoped>\n",
       "    .dataframe tbody tr th:only-of-type {\n",
       "        vertical-align: middle;\n",
       "    }\n",
       "\n",
       "    .dataframe tbody tr th {\n",
       "        vertical-align: top;\n",
       "    }\n",
       "\n",
       "    .dataframe thead th {\n",
       "        text-align: right;\n",
       "    }\n",
       "</style>\n",
       "<table border=\"1\" class=\"dataframe\">\n",
       "  <thead>\n",
       "    <tr style=\"text-align: right;\">\n",
       "      <th></th>\n",
       "      <th>clean_text</th>\n",
       "      <th>sentiment</th>\n",
       "    </tr>\n",
       "  </thead>\n",
       "  <tbody>\n",
       "    <tr>\n",
       "      <th>0</th>\n",
       "      <td>see that writer is somebody who has an incredi...</td>\n",
       "      <td>2</td>\n",
       "    </tr>\n",
       "    <tr>\n",
       "      <th>1</th>\n",
       "      <td>key polymer brings technical aspect to our ope...</td>\n",
       "      <td>1</td>\n",
       "    </tr>\n",
       "    <tr>\n",
       "      <th>2</th>\n",
       "      <td>were huge user of adhesives for our operation ...</td>\n",
       "      <td>1</td>\n",
       "    </tr>\n",
       "  </tbody>\n",
       "</table>\n",
       "</div>"
      ],
      "text/plain": [
       "                                          clean_text  sentiment\n",
       "0  see that writer is somebody who has an incredi...          2\n",
       "1  key polymer brings technical aspect to our ope...          1\n",
       "2  were huge user of adhesives for our operation ...          1"
      ]
     },
     "metadata": {},
     "output_type": "display_data"
    }
   ],
   "source": [
    "new_polarity_df = frame.copy()\n",
    "new_polarity_df.drop(columns=['id', 'text','anger', 'disgust','fear','happiness','sadness', 'surprise'], inplace= True)\n",
    "#Originalement, les valeurs sont de -1 à 1 mais modèle ne peut utiliser des valeurs négatives comme ça\n",
    "new_polarity_df.sentiment = new_polarity_df.sentiment.apply(lambda x : x+1)\n",
    "display(new_polarity_df.head(3))\n"
   ]
  },
  {
   "cell_type": "markdown",
   "metadata": {},
   "source": [
    "Quelques NAN qui block calculs dont on drop"
   ]
  },
  {
   "cell_type": "code",
   "execution_count": 12,
   "metadata": {},
   "outputs": [],
   "source": [
    "#new_polarity_df = pd.read_csv('./polarity.csv')\n",
    "\n",
    "new_polarity_df.dropna(inplace=True)"
   ]
  },
  {
   "cell_type": "code",
   "execution_count": 14,
   "metadata": {},
   "outputs": [
    {
     "data": {
      "text/plain": [
       "1    7552\n",
       "2    5102\n",
       "0    2923\n",
       "Name: sentiment, dtype: int64"
      ]
     },
     "metadata": {},
     "output_type": "display_data"
    }
   ],
   "source": [
    "display(new_polarity_df.sentiment.value_counts())\n",
    "\n"
   ]
  },
  {
   "cell_type": "markdown",
   "metadata": {},
   "source": [
    "Les données ne sont pas très bien balancées, mais la performance est bonne quand même. Comme on veut que ce soit \"réaliste\", et qu'il s'agit du plus gros dataset, on assume que c'est une représentation adéquate.\n"
   ]
  },
  {
   "cell_type": "markdown",
   "metadata": {},
   "source": [
    "### Modèle Tensorflow et BERT"
   ]
  },
  {
   "cell_type": "markdown",
   "metadata": {},
   "source": [
    "Le modèle pré-entraîné BERT utilisé ici est très lourd, et HEROKU n'accepte que des petits fichiers et n'a pas beaucoup de mémoire vive.\n",
    "Cette version du modèle est donc seulement à rouler en local. \n",
    "\n",
    "Le model utilisé par l'application, (et selui dans 'models/text_model.py') est donc un modèle bidon."
   ]
  },
  {
   "cell_type": "code",
   "execution_count": 28,
   "metadata": {},
   "outputs": [],
   "source": [
    "\n",
    "\n",
    "MAX_LEN = 128\n",
    "\n",
    "#Le modele pre entraine BERT est utilise sous forme dun HubLayer \n",
    "module_url = 'https://tfhub.dev/tensorflow/bert_en_uncased_L-12_H-768_A-12/2'\n",
    "BERT_LAYER = hub.KerasLayer(module_url, trainable=False)\n",
    "#Tokenizer qui prend les strings propres et calcul les embeddings\n",
    "TOKENIZER = BertTokenizerFast.from_pretrained('bert-base-uncased')\n",
    "\n",
    "\n",
    "#Quelques metriques intéressantes\n",
    "#Bien que F1_score serait interessant, KERAS  ne le fourni pas car ce nest pas une bonne metrique calculee par batch\n",
    "METRICS = [\n",
    "    tf.keras.metrics.CategoricalAccuracy(name = 'accuracy'),\n",
    "    tf.keras.metrics.Precision(name = 'precision'),\n",
    "    tf.keras.metrics.Recall(name = 'recall')\n",
    "]\n",
    "\n",
    "#Encodes lists of texts into BERT-useable tensors\n",
    "def bert_encode(texts, tokenizer=TOKENIZER, max_len=MAX_LEN):\n",
    "    all_tokens = []\n",
    "    all_masks = []\n",
    "    all_segments = []\n",
    "    \n",
    "    for text in texts:\n",
    "        text = tokenizer.tokenize(text)\n",
    "            \n",
    "        text = text[:max_len-2]\n",
    "        input_sequence = [\"[CLS]\"] + text + [\"[SEP]\"]\n",
    "        pad_len = max_len - len(input_sequence)\n",
    "        \n",
    "        tokens = tokenizer.convert_tokens_to_ids(input_sequence) + [0] * pad_len\n",
    "        pad_masks = [1] * len(input_sequence) + [0] * pad_len\n",
    "        segment_ids = [0] * max_len\n",
    "        \n",
    "        all_tokens.append(tokens)\n",
    "        all_masks.append(pad_masks)\n",
    "        all_segments.append(segment_ids)\n",
    "    \n",
    "    return np.array(all_tokens), np.array(all_masks), np.array(all_segments)\n",
    "\n",
    "\n",
    "#Building a neural-net that uses BERT embeddings\n",
    "def build_model(bert_layer=BERT_LAYER, max_len=MAX_LEN):\n",
    "    input_word_ids = tf.keras.Input(shape=(max_len,), dtype=tf.int32, name=\"input_word_ids\")\n",
    "    input_mask = tf.keras.Input(shape=(max_len,), dtype=tf.int32, name=\"input_mask\")\n",
    "    segment_ids = tf.keras.Input(shape=(max_len,), dtype=tf.int32, name=\"segment_ids\")\n",
    "\n",
    "    pooled_output, sequence_output = bert_layer([input_word_ids, input_mask, segment_ids])\n",
    "    clf_output = sequence_output[:, 0, :]\n",
    "\n",
    "    net = tf.keras.layers.Dense(16, activation='relu')(clf_output)\n",
    "    net = tf.keras.layers.Dropout(0.9)(net)\n",
    "    out = tf.keras.layers.Dense(3, activation='softmax')(net)\n",
    "    \n",
    "    model = tf.keras.models.Model(inputs=[input_word_ids, input_mask, segment_ids], outputs=out)\n",
    "    model.compile(tf.keras.optimizers.Adam(learning_rate=3e-5, epsilon=1e-08), loss='categorical_crossentropy', metrics=METRICS)\n",
    "    \n",
    "    return model\n",
    "\n",
    "\n",
    "def train_dnn(model, X_train, y_train, e=4):\n",
    "    #checkpoint = tf.keras.callbacks.ModelCheckpoint('model.h5', monitor='val_accuracy', save_best_only=True, verbose=1)\n",
    "    earlystopping = tf.keras.callbacks.EarlyStopping(monitor='val_accuracy', patience=5, verbose=1)\n",
    "\n",
    "    train_input = bert_encode(X_train)\n",
    "    train_labels = y_train\n",
    "\n",
    "    train_history = model.fit(\n",
    "            train_input, train_labels, \n",
    "            validation_split=0.2,\n",
    "            epochs=e,\n",
    "            callbacks=[ earlystopping],\n",
    "            batch_size=64,\n",
    "            verbose=1\n",
    "            )\n",
    "    return train_history\n",
    "\n",
    "\n",
    "    \n",
    "data = new_polarity_df\n",
    "x = data.clean_text.values\n",
    "dummy_sents = pd.get_dummies(data.sentiment)\n",
    "y = dummy_sents.values\n",
    "X_train, X_test, y_train, y_test = tts(x, y, test_size = 0.1)\n",
    "model = build_model()\n",
    "\n",
    "\n"
   ]
  },
  {
   "cell_type": "code",
   "execution_count": 29,
   "metadata": {},
   "outputs": [
    {
     "name": "stdout",
     "output_type": "stream",
     "text": [
      "Epoch 1/3\n",
      "20/20 [==============================] - 27s 1s/step - loss: 1.8349 - accuracy: 0.3756 - precision: 0.3170 - recall: 0.1509 - val_loss: 1.3874 - val_accuracy: 0.2179 - val_precision: 0.2346 - val_recall: 0.0609\n",
      "Epoch 2/3\n",
      "20/20 [==============================] - 20s 996ms/step - loss: 1.7822 - accuracy: 0.3804 - precision: 0.3043 - recall: 0.1429 - val_loss: 1.3307 - val_accuracy: 0.2308 - val_precision: 0.2031 - val_recall: 0.0417\n",
      "Epoch 3/3\n",
      "20/20 [==============================] - 20s 994ms/step - loss: 1.5897 - accuracy: 0.3973 - precision: 0.3261 - recall: 0.1332 - val_loss: 1.2802 - val_accuracy: 0.2340 - val_precision: 0.2000 - val_recall: 0.0256\n"
     ]
    }
   ],
   "source": [
    "histo = train_dnn(model, X_test, y_test)"
   ]
  },
  {
   "cell_type": "code",
   "execution_count": 30,
   "metadata": {},
   "outputs": [],
   "source": [
    "import matplotlib.pyplot as plt "
   ]
  },
  {
   "cell_type": "markdown",
   "metadata": {},
   "source": [
    "Le KERNEL a crash et dû être reset avec VSCode, donc doit retrain au complet.\n",
    "Prend >3h à train sur machine sans GPU, donc utilisé un plus petit model pour les images suivantes."
   ]
  },
  {
   "cell_type": "code",
   "execution_count": 33,
   "metadata": {},
   "outputs": [
    {
     "data": {
      "image/png": "[encoded data removed]",
      "text/plain": [
       "<Figure size 432x288 with 1 Axes>"
      ]
     },
     "metadata": {
      "needs_background": "light"
     },
     "output_type": "display_data"
    },
    {
     "data": {
      "image/png": "[encoded data removed]",
      "text/plain": [
       "<Figure size 432x288 with 1 Axes>"
      ]
     },
     "metadata": {
      "needs_background": "light"
     },
     "output_type": "display_data"
    },
    {
     "data": {
      "image/png": "[encoded data removed]",
      "text/plain": [
       "<Figure size 432x288 with 1 Axes>"
      ]
     },
     "metadata": {
      "needs_background": "light"
     },
     "output_type": "display_data"
    }
   ],
   "source": [
    "# summarize history for accuracy\n",
    "plt.plot(histo.history['accuracy'])\n",
    "plt.plot(histo.history['val_accuracy'])\n",
    "plt.title('model accuracy')\n",
    "plt.ylabel('accuracy')\n",
    "plt.xlabel('epoch')\n",
    "plt.legend(['train', 'test'], loc='upper left')\n",
    "plt.show()\n",
    "# summarize history for loss\n",
    "plt.plot(histo.history['loss'])\n",
    "plt.plot(histo.history['val_loss'])\n",
    "plt.title('model loss')\n",
    "plt.ylabel('loss')\n",
    "plt.xlabel('epoch')\n",
    "plt.legend(['train', 'test'], loc='upper left')\n",
    "plt.show()\n",
    "\n",
    "\n",
    "plt.plot(histo.history['recall'])\n",
    "plt.plot(histo.history['val_recall'])\n",
    "plt.title('model recall')\n",
    "plt.ylabel('recall')\n",
    "plt.xlabel('epoch')\n",
    "plt.legend(['train', 'test'], loc='upper left')\n",
    "plt.show()"
   ]
  },
  {
   "cell_type": "markdown",
   "metadata": {},
   "source": [
    "(Images si on roule le modèle avec paramètres originaux)\n",
    "On remarque un certain overfit à dès la 2e époque, la VAL_ACCURACY diminue légèrement alors que training accuracy augmente un peu, et val_loss augmente de la 2e à la 3e epoch, mais c'est peut-être random.\n",
    "\n",
    "Les autres métriques, comme val_recall et val_precision ont cependant très légèrement augmenté de la 1ere à la 3e époque."
   ]
  },
  {
   "cell_type": "code",
   "execution_count": 32,
   "metadata": {},
   "outputs": [],
   "source": [
    "from sklearn.metrics import accuracy_score, confusion_matrix\n",
    "from sklearn.metrics import ConfusionMatrixDisplay"
   ]
  },
  {
   "cell_type": "markdown",
   "metadata": {},
   "source": [
    "Pour générer nouvelle matrice, j'ai utilisé predictions sur ensemble de test (pas celui utilisé pour validation)"
   ]
  },
  {
   "cell_type": "code",
   "execution_count": 35,
   "metadata": {},
   "outputs": [
    {
     "name": "stdout",
     "output_type": "stream",
     "text": [
      "49/49 [==============================] - 21s 413ms/step\n"
     ]
    }
   ],
   "source": [
    "\n",
    "#On encode le texte (x_test) avec l'encodeur BERT pour avoir les embeddings/masks etc.\n",
    "preds = model.predict(bert_encode(X_test))\n",
    "\n",
    "#Comme le modèle donne des probabilités pour chaque classe, on prend le Argmax pour avoir la bonne classe.\n",
    "y_test_true = pd.Series([np.argmax(y) for y in y_test])\n",
    "#Idem pour vraie prédictions\n",
    "true_preds = [np.argmax(x) for x in preds]"
   ]
  },
  {
   "cell_type": "code",
   "execution_count": 36,
   "metadata": {},
   "outputs": [
    {
     "data": {
      "image/png": "[encoded data removed]",
      "text/plain": [
       "<Figure size 432x288 with 2 Axes>"
      ]
     },
     "metadata": {
      "needs_background": "dark"
     },
     "output_type": "display_data"
    }
   ],
   "source": [
    "#Axes et écriture en blanc pour voir sur fond noir\n",
    "params = {\"ytick.color\" : \"w\",\n",
    "          \"xtick.color\" : \"w\",\n",
    "          \"axes.labelcolor\" : \"w\",\n",
    "          \"axes.edgecolor\" : \"w\"}\n",
    "plt.rcParams.update(params)\n",
    "\n",
    "ConfusionMatrixDisplay.from_predictions(y_test_true, true_preds, display_labels = ['negative', 'neutral', 'positive'])\n",
    "plt.title('Text model predictions', color='white')\n",
    "plt.show()"
   ]
  },
  {
   "cell_type": "markdown",
   "metadata": {},
   "source": [
    "VRAIE MATRICE DE CONFUSION DANS LES DIAPOS"
   ]
  },
  {
   "cell_type": "markdown",
   "metadata": {},
   "source": [
    "On voit que la classe la mieux prédite est \"neutral\", avec un petit biais pour \"positive\" dans les erreurs.\n",
    "Ceci est peut-être dû au fait que les données sont un peu biaisées, mais nous voulions avoir le plus de données possible et les métriques n'étaient pas trop affectées."
   ]
  }
 ],
 "metadata": {
  "kernelspec": {
   "display_name": "Python 3.9.7 ('ml_env')",
   "language": "python",
   "name": "python3"
  },
  "language_info": {
   "codemirror_mode": {
    "name": "ipython",
    "version": 3
   },
   "file_extension": ".py",
   "mimetype": "text/x-python",
   "name": "python",
   "nbconvert_exporter": "python",
   "pygments_lexer": "ipython3",
   "version": "3.9.7"
  },
  "orig_nbformat": 4,
  "vscode": {
   "interpreter": {
    "hash": "e016b4092f2f33b22d7afb9b895ac58d1e1c55d21f6dd8227b43a776f59f225e"
   }
  }
 },
 "nbformat": 4,
 "nbformat_minor": 2
}

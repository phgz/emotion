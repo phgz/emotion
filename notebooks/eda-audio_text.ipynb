{
 "cells": [
  {
   "cell_type": "markdown",
   "metadata": {},
   "source": [
    "# Analyse exploratoire des données audio (EDA)"
   ]
  },
  {
   "cell_type": "markdown",
   "metadata": {},
   "source": [
    "A62 Projet de synthèse - Groupe 1208<br>\n",
    "Gabriel Trottier<br>\n",
    "Guy Raymond<br>\n",
    "Philip Gaudreau<br>"
   ]
  },
  {
   "cell_type": "code",
   "execution_count": 6,
   "metadata": {},
   "outputs": [],
   "source": [
    "import os\n",
    "import re\n",
    "import string\n",
    "import glob\n",
    "import nltk\n",
    "\n",
    "import pandas as pd\n",
    "import numpy as np\n",
    "import matplotlib.pyplot as plt\n",
    "\n",
    "from pathlib import Path\n",
    "from nltk.corpus import stopwords\n",
    "from collections import Counter\n",
    "from nltk import word_tokenize\n",
    "from wordcloud import WordCloud, STOPWORDS, ImageColorGenerator\n",
    "\n",
    "from sklearn.feature_extraction.text import TfidfVectorizer\n",
    "from sklearn.feature_extraction.text import CountVectorizer"
   ]
  },
  {
   "cell_type": "markdown",
   "metadata": {},
   "source": [
    "## Répertoires des données"
   ]
  },
  {
   "cell_type": "code",
   "execution_count": 7,
   "metadata": {},
   "outputs": [],
   "source": [
    "text_dir = \"../data/raw/text\"\n",
    "labels_dir =  \"../data/raw/labels\"\n",
    "audio_dir = \"../data/raw/audio\"\n",
    "#audio_clips_dir = \"../data/temp/audio_clips\""
   ]
  },
  {
   "cell_type": "markdown",
   "metadata": {},
   "source": [
    "## Création d'un DataFrame avec tous les labels (classes)"
   ]
  },
  {
   "cell_type": "code",
   "execution_count": 8,
   "metadata": {},
   "outputs": [
    {
     "ename": "ValueError",
     "evalue": "No objects to concatenate",
     "output_type": "error",
     "traceback": [
      "\u001b[1;31m---------------------------------------------------------------------------\u001b[0m",
      "\u001b[1;31mValueError\u001b[0m                                Traceback (most recent call last)",
      "\u001b[1;32mc:\\Users\\trott\\Downloads\\eda-audio.ipynb Cell 7'\u001b[0m in \u001b[0;36m<cell line: 10>\u001b[1;34m()\u001b[0m\n\u001b[0;32m      <a href='vscode-notebook-cell:/c%3A/Users/trott/Downloads/eda-audio.ipynb#ch0000006?line=5'>6</a>\u001b[0m     df \u001b[39m=\u001b[39m pd\u001b[39m.\u001b[39mread_csv(filename, index_col\u001b[39m=\u001b[39m\u001b[39mNone\u001b[39;00m, header\u001b[39m=\u001b[39m\u001b[39m0\u001b[39m)\n\u001b[0;32m      <a href='vscode-notebook-cell:/c%3A/Users/trott/Downloads/eda-audio.ipynb#ch0000006?line=6'>7</a>\u001b[0m     df_list\u001b[39m.\u001b[39mappend(df)\n\u001b[1;32m---> <a href='vscode-notebook-cell:/c%3A/Users/trott/Downloads/eda-audio.ipynb#ch0000006?line=9'>10</a>\u001b[0m df_labels \u001b[39m=\u001b[39m pd\u001b[39m.\u001b[39;49mconcat(df_list, axis\u001b[39m=\u001b[39;49m\u001b[39m0\u001b[39;49m, ignore_index\u001b[39m=\u001b[39;49m\u001b[39mTrue\u001b[39;49;00m)\n\u001b[0;32m     <a href='vscode-notebook-cell:/c%3A/Users/trott/Downloads/eda-audio.ipynb#ch0000006?line=11'>12</a>\u001b[0m \u001b[39mprint\u001b[39m(\u001b[39mf\u001b[39m\u001b[39m\"\u001b[39m\u001b[39mShape des données : \u001b[39m\u001b[39m{\u001b[39;00m(df_labels\u001b[39m.\u001b[39mshape[\u001b[39m0\u001b[39m], df_labels\u001b[39m.\u001b[39mshape[\u001b[39m1\u001b[39m])\u001b[39m}\u001b[39;00m\u001b[39m \u001b[39m\u001b[39m\\n\u001b[39;00m\u001b[39m \u001b[39m\u001b[39m\"\u001b[39m)\n\u001b[0;32m     <a href='vscode-notebook-cell:/c%3A/Users/trott/Downloads/eda-audio.ipynb#ch0000006?line=12'>13</a>\u001b[0m \u001b[39mprint\u001b[39m(\u001b[39mf\u001b[39m\u001b[39m\"\u001b[39m\u001b[39mNoms des colonnes : \u001b[39m\u001b[39m\\n\u001b[39;00m\u001b[39m \u001b[39m\u001b[39m{\u001b[39;00mdf_labels\u001b[39m.\u001b[39mcolumns\u001b[39m.\u001b[39mto_list()\u001b[39m}\u001b[39;00m\u001b[39m \u001b[39m\u001b[39m\\n\u001b[39;00m\u001b[39m \u001b[39m\u001b[39m\"\u001b[39m)\n",
      "File \u001b[1;32mc:\\Users\\trott\\miniconda3\\envs\\emotion\\lib\\site-packages\\pandas\\util\\_decorators.py:311\u001b[0m, in \u001b[0;36mdeprecate_nonkeyword_arguments.<locals>.decorate.<locals>.wrapper\u001b[1;34m(*args, **kwargs)\u001b[0m\n\u001b[0;32m    <a href='file:///c%3A/Users/trott/miniconda3/envs/emotion/lib/site-packages/pandas/util/_decorators.py?line=304'>305</a>\u001b[0m \u001b[39mif\u001b[39;00m \u001b[39mlen\u001b[39m(args) \u001b[39m>\u001b[39m num_allow_args:\n\u001b[0;32m    <a href='file:///c%3A/Users/trott/miniconda3/envs/emotion/lib/site-packages/pandas/util/_decorators.py?line=305'>306</a>\u001b[0m     warnings\u001b[39m.\u001b[39mwarn(\n\u001b[0;32m    <a href='file:///c%3A/Users/trott/miniconda3/envs/emotion/lib/site-packages/pandas/util/_decorators.py?line=306'>307</a>\u001b[0m         msg\u001b[39m.\u001b[39mformat(arguments\u001b[39m=\u001b[39marguments),\n\u001b[0;32m    <a href='file:///c%3A/Users/trott/miniconda3/envs/emotion/lib/site-packages/pandas/util/_decorators.py?line=307'>308</a>\u001b[0m         \u001b[39mFutureWarning\u001b[39;00m,\n\u001b[0;32m    <a href='file:///c%3A/Users/trott/miniconda3/envs/emotion/lib/site-packages/pandas/util/_decorators.py?line=308'>309</a>\u001b[0m         stacklevel\u001b[39m=\u001b[39mstacklevel,\n\u001b[0;32m    <a href='file:///c%3A/Users/trott/miniconda3/envs/emotion/lib/site-packages/pandas/util/_decorators.py?line=309'>310</a>\u001b[0m     )\n\u001b[1;32m--> <a href='file:///c%3A/Users/trott/miniconda3/envs/emotion/lib/site-packages/pandas/util/_decorators.py?line=310'>311</a>\u001b[0m \u001b[39mreturn\u001b[39;00m func(\u001b[39m*\u001b[39margs, \u001b[39m*\u001b[39m\u001b[39m*\u001b[39mkwargs)\n",
      "File \u001b[1;32mc:\\Users\\trott\\miniconda3\\envs\\emotion\\lib\\site-packages\\pandas\\core\\reshape\\concat.py:347\u001b[0m, in \u001b[0;36mconcat\u001b[1;34m(objs, axis, join, ignore_index, keys, levels, names, verify_integrity, sort, copy)\u001b[0m\n\u001b[0;32m    <a href='file:///c%3A/Users/trott/miniconda3/envs/emotion/lib/site-packages/pandas/core/reshape/concat.py?line=142'>143</a>\u001b[0m \u001b[39m@deprecate_nonkeyword_arguments\u001b[39m(version\u001b[39m=\u001b[39m\u001b[39mNone\u001b[39;00m, allowed_args\u001b[39m=\u001b[39m[\u001b[39m\"\u001b[39m\u001b[39mobjs\u001b[39m\u001b[39m\"\u001b[39m])\n\u001b[0;32m    <a href='file:///c%3A/Users/trott/miniconda3/envs/emotion/lib/site-packages/pandas/core/reshape/concat.py?line=143'>144</a>\u001b[0m \u001b[39mdef\u001b[39;00m \u001b[39mconcat\u001b[39m(\n\u001b[0;32m    <a href='file:///c%3A/Users/trott/miniconda3/envs/emotion/lib/site-packages/pandas/core/reshape/concat.py?line=144'>145</a>\u001b[0m     objs: Iterable[NDFrame] \u001b[39m|\u001b[39m Mapping[Hashable, NDFrame],\n\u001b[1;32m   (...)\u001b[0m\n\u001b[0;32m    <a href='file:///c%3A/Users/trott/miniconda3/envs/emotion/lib/site-packages/pandas/core/reshape/concat.py?line=153'>154</a>\u001b[0m     copy: \u001b[39mbool\u001b[39m \u001b[39m=\u001b[39m \u001b[39mTrue\u001b[39;00m,\n\u001b[0;32m    <a href='file:///c%3A/Users/trott/miniconda3/envs/emotion/lib/site-packages/pandas/core/reshape/concat.py?line=154'>155</a>\u001b[0m ) \u001b[39m-\u001b[39m\u001b[39m>\u001b[39m DataFrame \u001b[39m|\u001b[39m Series:\n\u001b[0;32m    <a href='file:///c%3A/Users/trott/miniconda3/envs/emotion/lib/site-packages/pandas/core/reshape/concat.py?line=155'>156</a>\u001b[0m     \u001b[39m\"\"\"\u001b[39;00m\n\u001b[0;32m    <a href='file:///c%3A/Users/trott/miniconda3/envs/emotion/lib/site-packages/pandas/core/reshape/concat.py?line=156'>157</a>\u001b[0m \u001b[39m    Concatenate pandas objects along a particular axis with optional set logic\u001b[39;00m\n\u001b[0;32m    <a href='file:///c%3A/Users/trott/miniconda3/envs/emotion/lib/site-packages/pandas/core/reshape/concat.py?line=157'>158</a>\u001b[0m \u001b[39m    along the other axes.\u001b[39;00m\n\u001b[1;32m   (...)\u001b[0m\n\u001b[0;32m    <a href='file:///c%3A/Users/trott/miniconda3/envs/emotion/lib/site-packages/pandas/core/reshape/concat.py?line=344'>345</a>\u001b[0m \u001b[39m    ValueError: Indexes have overlapping values: ['a']\u001b[39;00m\n\u001b[0;32m    <a href='file:///c%3A/Users/trott/miniconda3/envs/emotion/lib/site-packages/pandas/core/reshape/concat.py?line=345'>346</a>\u001b[0m \u001b[39m    \"\"\"\u001b[39;00m\n\u001b[1;32m--> <a href='file:///c%3A/Users/trott/miniconda3/envs/emotion/lib/site-packages/pandas/core/reshape/concat.py?line=346'>347</a>\u001b[0m     op \u001b[39m=\u001b[39m _Concatenator(\n\u001b[0;32m    <a href='file:///c%3A/Users/trott/miniconda3/envs/emotion/lib/site-packages/pandas/core/reshape/concat.py?line=347'>348</a>\u001b[0m         objs,\n\u001b[0;32m    <a href='file:///c%3A/Users/trott/miniconda3/envs/emotion/lib/site-packages/pandas/core/reshape/concat.py?line=348'>349</a>\u001b[0m         axis\u001b[39m=\u001b[39;49maxis,\n\u001b[0;32m    <a href='file:///c%3A/Users/trott/miniconda3/envs/emotion/lib/site-packages/pandas/core/reshape/concat.py?line=349'>350</a>\u001b[0m         ignore_index\u001b[39m=\u001b[39;49mignore_index,\n\u001b[0;32m    <a href='file:///c%3A/Users/trott/miniconda3/envs/emotion/lib/site-packages/pandas/core/reshape/concat.py?line=350'>351</a>\u001b[0m         join\u001b[39m=\u001b[39;49mjoin,\n\u001b[0;32m    <a href='file:///c%3A/Users/trott/miniconda3/envs/emotion/lib/site-packages/pandas/core/reshape/concat.py?line=351'>352</a>\u001b[0m         keys\u001b[39m=\u001b[39;49mkeys,\n\u001b[0;32m    <a href='file:///c%3A/Users/trott/miniconda3/envs/emotion/lib/site-packages/pandas/core/reshape/concat.py?line=352'>353</a>\u001b[0m         levels\u001b[39m=\u001b[39;49mlevels,\n\u001b[0;32m    <a href='file:///c%3A/Users/trott/miniconda3/envs/emotion/lib/site-packages/pandas/core/reshape/concat.py?line=353'>354</a>\u001b[0m         names\u001b[39m=\u001b[39;49mnames,\n\u001b[0;32m    <a href='file:///c%3A/Users/trott/miniconda3/envs/emotion/lib/site-packages/pandas/core/reshape/concat.py?line=354'>355</a>\u001b[0m         verify_integrity\u001b[39m=\u001b[39;49mverify_integrity,\n\u001b[0;32m    <a href='file:///c%3A/Users/trott/miniconda3/envs/emotion/lib/site-packages/pandas/core/reshape/concat.py?line=355'>356</a>\u001b[0m         copy\u001b[39m=\u001b[39;49mcopy,\n\u001b[0;32m    <a href='file:///c%3A/Users/trott/miniconda3/envs/emotion/lib/site-packages/pandas/core/reshape/concat.py?line=356'>357</a>\u001b[0m         sort\u001b[39m=\u001b[39;49msort,\n\u001b[0;32m    <a href='file:///c%3A/Users/trott/miniconda3/envs/emotion/lib/site-packages/pandas/core/reshape/concat.py?line=357'>358</a>\u001b[0m     )\n\u001b[0;32m    <a href='file:///c%3A/Users/trott/miniconda3/envs/emotion/lib/site-packages/pandas/core/reshape/concat.py?line=359'>360</a>\u001b[0m     \u001b[39mreturn\u001b[39;00m op\u001b[39m.\u001b[39mget_result()\n",
      "File \u001b[1;32mc:\\Users\\trott\\miniconda3\\envs\\emotion\\lib\\site-packages\\pandas\\core\\reshape\\concat.py:404\u001b[0m, in \u001b[0;36m_Concatenator.__init__\u001b[1;34m(self, objs, axis, join, keys, levels, names, ignore_index, verify_integrity, copy, sort)\u001b[0m\n\u001b[0;32m    <a href='file:///c%3A/Users/trott/miniconda3/envs/emotion/lib/site-packages/pandas/core/reshape/concat.py?line=400'>401</a>\u001b[0m     objs \u001b[39m=\u001b[39m \u001b[39mlist\u001b[39m(objs)\n\u001b[0;32m    <a href='file:///c%3A/Users/trott/miniconda3/envs/emotion/lib/site-packages/pandas/core/reshape/concat.py?line=402'>403</a>\u001b[0m \u001b[39mif\u001b[39;00m \u001b[39mlen\u001b[39m(objs) \u001b[39m==\u001b[39m \u001b[39m0\u001b[39m:\n\u001b[1;32m--> <a href='file:///c%3A/Users/trott/miniconda3/envs/emotion/lib/site-packages/pandas/core/reshape/concat.py?line=403'>404</a>\u001b[0m     \u001b[39mraise\u001b[39;00m \u001b[39mValueError\u001b[39;00m(\u001b[39m\"\u001b[39m\u001b[39mNo objects to concatenate\u001b[39m\u001b[39m\"\u001b[39m)\n\u001b[0;32m    <a href='file:///c%3A/Users/trott/miniconda3/envs/emotion/lib/site-packages/pandas/core/reshape/concat.py?line=405'>406</a>\u001b[0m \u001b[39mif\u001b[39;00m keys \u001b[39mis\u001b[39;00m \u001b[39mNone\u001b[39;00m:\n\u001b[0;32m    <a href='file:///c%3A/Users/trott/miniconda3/envs/emotion/lib/site-packages/pandas/core/reshape/concat.py?line=406'>407</a>\u001b[0m     objs \u001b[39m=\u001b[39m \u001b[39mlist\u001b[39m(com\u001b[39m.\u001b[39mnot_none(\u001b[39m*\u001b[39mobjs))\n",
      "\u001b[1;31mValueError\u001b[0m: No objects to concatenate"
     ]
    }
   ],
   "source": [
    "label_files = glob.glob(f\"{labels_dir}/*.csv\")\n",
    "\n",
    "df_list = []\n",
    "\n",
    "for filename in label_files:\n",
    "    df = pd.read_csv(filename, index_col=None, header=0)\n",
    "    df_list.append(df)\n",
    "\n",
    "\n",
    "df_labels = pd.concat(df_list, axis=0, ignore_index=True)\n",
    "\n",
    "print(f\"Shape des données : {(df_labels.shape[0], df_labels.shape[1])} \\n \")\n",
    "print(f\"Noms des colonnes : \\n {df_labels.columns.to_list()} \\n \")\n",
    "print(f\"Nombre de phrases uniques : {len(df_labels['AssignmentId'].unique())}\")"
   ]
  },
  {
   "cell_type": "markdown",
   "metadata": {},
   "source": [
    "# EDA LABELS\n"
   ]
  },
  {
   "cell_type": "code",
   "execution_count": null,
   "metadata": {},
   "outputs": [],
   "source": [
    "#colonnes ayant des valeurs manquantes et le nombres de valeurs manquantes\n",
    "nan_cols = [i for i in df_labels.columns if df_labels[i].isnull().any()]\n",
    "nan_values = [num for num in df_labels.isnull().sum().values if num != 0]\n",
    "\n",
    "\n",
    "\n",
    "print(pd.DataFrame(np.reshape(nan_values, (19,-1)), columns=[ 'Valeurs manquantes'], index=nan_cols))"
   ]
  },
  {
   "cell_type": "markdown",
   "metadata": {},
   "source": [
    "Beaucoup de colonnes semblent seulement servir aux annotateurs ou à la gestion/administration de projets et ne concernent donc pas les données en tant que telles. Par exemple, `RequesterAnnotation`,  `CreationTime`, `WorkerID`, les secret words et bien d'autre. \n",
    "On voit aussi que plusieurs colonnes sont complètement vides, ayant 100% de valeurs manquantes.\n",
    "En tout, nous considérons présentement ~25 colonnes comme n'étant d'aucun intérêt ou n'étant pas du tout relié au textes ou clips mêmes et donc notre analyse."
   ]
  },
  {
   "cell_type": "markdown",
   "metadata": {},
   "source": [
    "## Selection des colonnes des labels pertinentes pour l'analyse"
   ]
  },
  {
   "cell_type": "code",
   "execution_count": null,
   "metadata": {},
   "outputs": [],
   "source": [
    "\"\"\"\n",
    "useless_cols = ['Answer.secret_word1','Answer.secret_word2','Answer.secret_word3','WorkerId', 'AssignmentStatus', 'AcceptTime',\n",
    "       'SubmitTime', 'AutoApprovalTime', 'ApprovalTime', 'RejectionTime',\n",
    "       'RequesterFeedback', 'WorkTimeInSeconds', 'LifetimeApprovalRate',\n",
    "       'Last30DaysApprovalRate', 'Last7DaysApprovalRate','HITId', 'HITTypeId','CreationTime', 'MaxAssignments', 'RequesterAnnotation',\n",
    "       'AssignmentDurationInSeconds', 'AutoApprovalDelayInSeconds',\n",
    "       'Expiration', 'NumberOfSimilarHITs', 'LifetimeInSeconds']\n",
    "\n",
    "df_labels.drop(useless_cols, axis=1, inplace=True)\n",
    "\"\"\""
   ]
  },
  {
   "cell_type": "code",
   "execution_count": null,
   "metadata": {},
   "outputs": [],
   "source": [
    "label_cols = ['Input.VIDEO_ID', 'Input.CLIP',\n",
    "              'Answer.anger', 'Answer.disgust',\n",
    "              'Answer.fear', 'Answer.happiness',\n",
    "              'Answer.sadness', 'Answer.surprise',\n",
    "              'Answer.sentiment']"
   ]
  },
  {
   "cell_type": "markdown",
   "metadata": {},
   "source": [
    "### Noms de colonnes plus faciles à utiliser"
   ]
  },
  {
   "cell_type": "code",
   "execution_count": null,
   "metadata": {},
   "outputs": [],
   "source": [
    "label_new_cols = ['file_id', 'clip_id',\n",
    "                  'anger', 'disgust',\n",
    "                  'fear', 'happiness',\n",
    "                  'sadness', 'surprise',\n",
    "                  'sentiment']"
   ]
  },
  {
   "cell_type": "code",
   "execution_count": null,
   "metadata": {},
   "outputs": [],
   "source": [
    "emotion_vars = ['Answer.anger', 'Answer.disgust', 'Answer.fear','Answer.happiness', 'Answer.sadness', 'Answer.surprise']\n",
    "sentiment_var = ['Answer.sentiment']\n",
    "\n",
    "df_labels[emotion_vars+sentiment_var].describe(percentiles=[0.75])"
   ]
  },
  {
   "cell_type": "markdown",
   "metadata": {},
   "source": [
    "Annotation des sentiments :  https://nlp.stanford.edu/~socherr/EMNLP2013_RNTN.pdf"
   ]
  },
  {
   "cell_type": "markdown",
   "metadata": {},
   "source": [
    "Si on regarde la moyenne et les centiles 50 et 75, on voit que la très grande majorité des valeurs des émotions/sentiments sont de 0. Seulement les features `sentiment` et `happiness` ont 1 comme valeur pour le 75e centile."
   ]
  },
  {
   "cell_type": "markdown",
   "metadata": {},
   "source": [
    "On remarque que les clips vidéos apparaissent 3 fois chacuns, mais les valeurs des variables cibles varient d'une fois à l'autre, donc on en conclu que chaque clip a été annoté 3 fois par des annotateurs différents. Ainsi, on devra combiner les différentes annotations ensemble afin d'obtenir un résultat représentatif des 3 opinions mais qui permet d'associer 1 à 1 avec les fichiers audios."
   ]
  },
  {
   "cell_type": "code",
   "execution_count": null,
   "metadata": {},
   "outputs": [],
   "source": [
    "df_labels.duplicated(subset=['Input.VIDEO_ID', 'Input.CLIP']).any()\n",
    "df_labels[['Input.VIDEO_ID','Input.CLIP', 'Answer.anger', 'Answer.disgust', \n",
    "'Answer.fear','Answer.happiness', 'Answer.sadness', \n",
    "'Answer.surprise', 'Answer.sentiment']].head(24)"
   ]
  },
  {
   "cell_type": "code",
   "execution_count": null,
   "metadata": {},
   "outputs": [
    {
     "data": {
      "text/html": [
       "<div>\n",
       "<style scoped>\n",
       "    .dataframe tbody tr th:only-of-type {\n",
       "        vertical-align: middle;\n",
       "    }\n",
       "\n",
       "    .dataframe tbody tr th {\n",
       "        vertical-align: top;\n",
       "    }\n",
       "\n",
       "    .dataframe thead th {\n",
       "        text-align: right;\n",
       "    }\n",
       "</style>\n",
       "<table border=\"1\" class=\"dataframe\">\n",
       "  <thead>\n",
       "    <tr style=\"text-align: right;\">\n",
       "      <th></th>\n",
       "      <th>file_id</th>\n",
       "      <th>clip_id</th>\n",
       "      <th>anger</th>\n",
       "      <th>disgust</th>\n",
       "      <th>fear</th>\n",
       "      <th>happiness</th>\n",
       "      <th>sadness</th>\n",
       "      <th>surprise</th>\n",
       "      <th>sentiment</th>\n",
       "    </tr>\n",
       "  </thead>\n",
       "  <tbody>\n",
       "    <tr>\n",
       "      <th>0</th>\n",
       "      <td>c_FJuhSte8Q</td>\n",
       "      <td>6</td>\n",
       "      <td>0.0</td>\n",
       "      <td>0.0</td>\n",
       "      <td>0.0</td>\n",
       "      <td>0.0</td>\n",
       "      <td>1.0</td>\n",
       "      <td>0.0</td>\n",
       "      <td>-1.0</td>\n",
       "    </tr>\n",
       "    <tr>\n",
       "      <th>1</th>\n",
       "      <td>c_FJuhSte8Q</td>\n",
       "      <td>6</td>\n",
       "      <td>0.0</td>\n",
       "      <td>0.0</td>\n",
       "      <td>0.0</td>\n",
       "      <td>0.0</td>\n",
       "      <td>0.0</td>\n",
       "      <td>0.0</td>\n",
       "      <td>1.0</td>\n",
       "    </tr>\n",
       "    <tr>\n",
       "      <th>2</th>\n",
       "      <td>c_FJuhSte8Q</td>\n",
       "      <td>6</td>\n",
       "      <td>0.0</td>\n",
       "      <td>0.0</td>\n",
       "      <td>0.0</td>\n",
       "      <td>0.0</td>\n",
       "      <td>0.0</td>\n",
       "      <td>0.0</td>\n",
       "      <td>-1.0</td>\n",
       "    </tr>\n",
       "    <tr>\n",
       "      <th>3</th>\n",
       "      <td>OOh1_ffKOKk</td>\n",
       "      <td>2</td>\n",
       "      <td>0.0</td>\n",
       "      <td>0.0</td>\n",
       "      <td>0.0</td>\n",
       "      <td>1.0</td>\n",
       "      <td>0.0</td>\n",
       "      <td>0.0</td>\n",
       "      <td>2.0</td>\n",
       "    </tr>\n",
       "    <tr>\n",
       "      <th>4</th>\n",
       "      <td>OOh1_ffKOKk</td>\n",
       "      <td>2</td>\n",
       "      <td>0.0</td>\n",
       "      <td>0.0</td>\n",
       "      <td>0.0</td>\n",
       "      <td>1.0</td>\n",
       "      <td>0.0</td>\n",
       "      <td>0.0</td>\n",
       "      <td>0.0</td>\n",
       "    </tr>\n",
       "  </tbody>\n",
       "</table>\n",
       "</div>"
      ],
      "text/plain": [
       "       file_id  clip_id  anger  disgust  fear  happiness  sadness  surprise  \\\n",
       "0  c_FJuhSte8Q        6    0.0      0.0   0.0        0.0      1.0       0.0   \n",
       "1  c_FJuhSte8Q        6    0.0      0.0   0.0        0.0      0.0       0.0   \n",
       "2  c_FJuhSte8Q        6    0.0      0.0   0.0        0.0      0.0       0.0   \n",
       "3  OOh1_ffKOKk        2    0.0      0.0   0.0        1.0      0.0       0.0   \n",
       "4  OOh1_ffKOKk        2    0.0      0.0   0.0        1.0      0.0       0.0   \n",
       "\n",
       "   sentiment  \n",
       "0       -1.0  \n",
       "1        1.0  \n",
       "2       -1.0  \n",
       "3        2.0  \n",
       "4        0.0  "
      ]
     },
     "execution_count": 106,
     "metadata": {},
     "output_type": "execute_result"
    }
   ],
   "source": [
    "df_labels = df_labels[label_cols]\n",
    "df_labels.columns = label_new_cols\n",
    "df_labels.head(5)"
   ]
  },
  {
   "cell_type": "markdown",
   "metadata": {},
   "source": [
    "### Affichage des noms de identifiants de fichiers contenant des '/'"
   ]
  },
  {
   "cell_type": "code",
   "execution_count": null,
   "metadata": {},
   "outputs": [
    {
     "data": {
      "text/html": [
       "<div>\n",
       "<style scoped>\n",
       "    .dataframe tbody tr th:only-of-type {\n",
       "        vertical-align: middle;\n",
       "    }\n",
       "\n",
       "    .dataframe tbody tr th {\n",
       "        vertical-align: top;\n",
       "    }\n",
       "\n",
       "    .dataframe thead th {\n",
       "        text-align: right;\n",
       "    }\n",
       "</style>\n",
       "<table border=\"1\" class=\"dataframe\">\n",
       "  <thead>\n",
       "    <tr style=\"text-align: right;\">\n",
       "      <th></th>\n",
       "      <th>file_id</th>\n",
       "      <th>clip_id</th>\n",
       "      <th>anger</th>\n",
       "      <th>disgust</th>\n",
       "      <th>fear</th>\n",
       "      <th>happiness</th>\n",
       "      <th>sadness</th>\n",
       "      <th>surprise</th>\n",
       "      <th>sentiment</th>\n",
       "    </tr>\n",
       "  </thead>\n",
       "  <tbody>\n",
       "    <tr>\n",
       "      <th>27125</th>\n",
       "      <td>pom_extra/216007</td>\n",
       "      <td>16</td>\n",
       "      <td>0.0</td>\n",
       "      <td>0.0</td>\n",
       "      <td>0.0</td>\n",
       "      <td>0.0</td>\n",
       "      <td>0.0</td>\n",
       "      <td>0.0</td>\n",
       "      <td>0.0</td>\n",
       "    </tr>\n",
       "    <tr>\n",
       "      <th>27126</th>\n",
       "      <td>sqa_mosi/32j1yMF37hA</td>\n",
       "      <td>1</td>\n",
       "      <td>0.0</td>\n",
       "      <td>0.0</td>\n",
       "      <td>0.0</td>\n",
       "      <td>0.0</td>\n",
       "      <td>0.0</td>\n",
       "      <td>0.0</td>\n",
       "      <td>0.0</td>\n",
       "    </tr>\n",
       "    <tr>\n",
       "      <th>27127</th>\n",
       "      <td>sqa_mosi/32j1yMF37hA</td>\n",
       "      <td>1</td>\n",
       "      <td>0.0</td>\n",
       "      <td>0.0</td>\n",
       "      <td>0.0</td>\n",
       "      <td>0.0</td>\n",
       "      <td>0.0</td>\n",
       "      <td>0.0</td>\n",
       "      <td>0.0</td>\n",
       "    </tr>\n",
       "    <tr>\n",
       "      <th>27128</th>\n",
       "      <td>sqa_mosi/32j1yMF37hA</td>\n",
       "      <td>1</td>\n",
       "      <td>0.0</td>\n",
       "      <td>0.0</td>\n",
       "      <td>0.0</td>\n",
       "      <td>1.0</td>\n",
       "      <td>0.0</td>\n",
       "      <td>0.0</td>\n",
       "      <td>1.0</td>\n",
       "    </tr>\n",
       "    <tr>\n",
       "      <th>27129</th>\n",
       "      <td>sqa_mosi/DbAppk7xT0Y</td>\n",
       "      <td>7</td>\n",
       "      <td>0.0</td>\n",
       "      <td>0.0</td>\n",
       "      <td>0.0</td>\n",
       "      <td>0.0</td>\n",
       "      <td>0.0</td>\n",
       "      <td>0.0</td>\n",
       "      <td>0.0</td>\n",
       "    </tr>\n",
       "    <tr>\n",
       "      <th>27130</th>\n",
       "      <td>sqa_mosi/DbAppk7xT0Y</td>\n",
       "      <td>7</td>\n",
       "      <td>0.0</td>\n",
       "      <td>0.0</td>\n",
       "      <td>0.0</td>\n",
       "      <td>0.0</td>\n",
       "      <td>0.0</td>\n",
       "      <td>0.0</td>\n",
       "      <td>0.0</td>\n",
       "    </tr>\n",
       "    <tr>\n",
       "      <th>27131</th>\n",
       "      <td>sqa_mosi/DbAppk7xT0Y</td>\n",
       "      <td>7</td>\n",
       "      <td>0.0</td>\n",
       "      <td>0.0</td>\n",
       "      <td>0.0</td>\n",
       "      <td>1.0</td>\n",
       "      <td>0.0</td>\n",
       "      <td>0.0</td>\n",
       "      <td>0.0</td>\n",
       "    </tr>\n",
       "    <tr>\n",
       "      <th>27132</th>\n",
       "      <td>sqa_mosi/iREkcXde5ds</td>\n",
       "      <td>4</td>\n",
       "      <td>0.0</td>\n",
       "      <td>0.0</td>\n",
       "      <td>0.0</td>\n",
       "      <td>0.0</td>\n",
       "      <td>0.0</td>\n",
       "      <td>0.0</td>\n",
       "      <td>0.0</td>\n",
       "    </tr>\n",
       "    <tr>\n",
       "      <th>27133</th>\n",
       "      <td>sqa_mosi/iREkcXde5ds</td>\n",
       "      <td>4</td>\n",
       "      <td>0.0</td>\n",
       "      <td>0.0</td>\n",
       "      <td>0.0</td>\n",
       "      <td>0.0</td>\n",
       "      <td>0.0</td>\n",
       "      <td>0.0</td>\n",
       "      <td>0.0</td>\n",
       "    </tr>\n",
       "    <tr>\n",
       "      <th>27134</th>\n",
       "      <td>sqa_mosi/iREkcXde5ds</td>\n",
       "      <td>4</td>\n",
       "      <td>0.0</td>\n",
       "      <td>0.0</td>\n",
       "      <td>0.0</td>\n",
       "      <td>0.0</td>\n",
       "      <td>0.0</td>\n",
       "      <td>0.0</td>\n",
       "      <td>0.0</td>\n",
       "    </tr>\n",
       "  </tbody>\n",
       "</table>\n",
       "</div>"
      ],
      "text/plain": [
       "                    file_id  clip_id  anger  disgust  fear  happiness  \\\n",
       "27125      pom_extra/216007       16    0.0      0.0   0.0        0.0   \n",
       "27126  sqa_mosi/32j1yMF37hA        1    0.0      0.0   0.0        0.0   \n",
       "27127  sqa_mosi/32j1yMF37hA        1    0.0      0.0   0.0        0.0   \n",
       "27128  sqa_mosi/32j1yMF37hA        1    0.0      0.0   0.0        1.0   \n",
       "27129  sqa_mosi/DbAppk7xT0Y        7    0.0      0.0   0.0        0.0   \n",
       "27130  sqa_mosi/DbAppk7xT0Y        7    0.0      0.0   0.0        0.0   \n",
       "27131  sqa_mosi/DbAppk7xT0Y        7    0.0      0.0   0.0        1.0   \n",
       "27132  sqa_mosi/iREkcXde5ds        4    0.0      0.0   0.0        0.0   \n",
       "27133  sqa_mosi/iREkcXde5ds        4    0.0      0.0   0.0        0.0   \n",
       "27134  sqa_mosi/iREkcXde5ds        4    0.0      0.0   0.0        0.0   \n",
       "\n",
       "       sadness  surprise  sentiment  \n",
       "27125      0.0       0.0        0.0  \n",
       "27126      0.0       0.0        0.0  \n",
       "27127      0.0       0.0        0.0  \n",
       "27128      0.0       0.0        1.0  \n",
       "27129      0.0       0.0        0.0  \n",
       "27130      0.0       0.0        0.0  \n",
       "27131      0.0       0.0        0.0  \n",
       "27132      0.0       0.0        0.0  \n",
       "27133      0.0       0.0        0.0  \n",
       "27134      0.0       0.0        0.0  "
      ]
     },
     "execution_count": 107,
     "metadata": {},
     "output_type": "execute_result"
    }
   ],
   "source": [
    "df_labels[df_labels['file_id'].apply(lambda x : '/' in str(x))].tail(10)"
   ]
  },
  {
   "cell_type": "markdown",
   "metadata": {},
   "source": [
    "### Suppression des '/' dans les indentifiants de fichiers pour comparaisons avec audio et textes"
   ]
  },
  {
   "cell_type": "code",
   "execution_count": null,
   "metadata": {},
   "outputs": [
    {
     "data": {
      "text/html": [
       "<div>\n",
       "<style scoped>\n",
       "    .dataframe tbody tr th:only-of-type {\n",
       "        vertical-align: middle;\n",
       "    }\n",
       "\n",
       "    .dataframe tbody tr th {\n",
       "        vertical-align: top;\n",
       "    }\n",
       "\n",
       "    .dataframe thead th {\n",
       "        text-align: right;\n",
       "    }\n",
       "</style>\n",
       "<table border=\"1\" class=\"dataframe\">\n",
       "  <thead>\n",
       "    <tr style=\"text-align: right;\">\n",
       "      <th></th>\n",
       "      <th>file_id</th>\n",
       "      <th>clip_id</th>\n",
       "      <th>anger</th>\n",
       "      <th>disgust</th>\n",
       "      <th>fear</th>\n",
       "      <th>happiness</th>\n",
       "      <th>sadness</th>\n",
       "      <th>surprise</th>\n",
       "      <th>sentiment</th>\n",
       "    </tr>\n",
       "  </thead>\n",
       "  <tbody>\n",
       "  </tbody>\n",
       "</table>\n",
       "</div>"
      ],
      "text/plain": [
       "Empty DataFrame\n",
       "Columns: [file_id, clip_id, anger, disgust, fear, happiness, sadness, surprise, sentiment]\n",
       "Index: []"
      ]
     },
     "execution_count": 108,
     "metadata": {},
     "output_type": "execute_result"
    }
   ],
   "source": [
    "df_labels['file_id'] = df_labels['file_id'].map(lambda x : str(x).split(\"/\")[-1])\n",
    "df_labels[df_labels['file_id'].apply(lambda x : '/' in str(x))].tail(10)"
   ]
  },
  {
   "cell_type": "code",
   "execution_count": null,
   "metadata": {},
   "outputs": [
    {
     "name": "stdout",
     "output_type": "stream",
     "text": [
      "Nombre de textes avec au moins un clip annoté: 3305\n"
     ]
    }
   ],
   "source": [
    "annotated_files = len(df_labels['file_id'].unique())\n",
    "print(f\"Nombre de textes avec au moins un clip annoté: {annotated_files}\")"
   ]
  },
  {
   "cell_type": "markdown",
   "metadata": {},
   "source": [
    "## Extraction des informations des clips audio des fichiers texte"
   ]
  },
  {
   "cell_type": "code",
   "execution_count": null,
   "metadata": {},
   "outputs": [],
   "source": [
    "def get_audio_info_from_text(text_dir):\n",
    "    '''\n",
    "        get audio information from text files to extract clips\n",
    "        - clip number\n",
    "        - clip start time\n",
    "        - clip end time\n",
    "        return DataFrame\n",
    "    '''\n",
    "    text_files = glob.glob(f\"{text_dir}/*.txt\")\n",
    "    df_list = []\n",
    "    for file in text_files:\n",
    "        with open(file, 'r') as text_file:\n",
    "            text_lines = text_file.readlines()\n",
    "            #df_text = pd.DataFrame()\n",
    "            text_dict_list = []\n",
    "            for text_line in text_lines:\n",
    "                line_dict = {}\n",
    "                split_line = text_line.split('___')\n",
    "                line_dict['file_id'] = split_line[0]\n",
    "                line_dict['clip_id'] = int(split_line[1])\n",
    "                line_dict['start_time'] = abs(float(split_line[2]))\n",
    "                line_dict['end_time'] = float(split_line[3])\n",
    "                \n",
    "                # leave text out for now\n",
    "                # line_dict['text'] = split_line[4][:-1]\n",
    "                \n",
    "                text_dict_list.append(line_dict)\n",
    "        df_list.append(pd.DataFrame(text_dict_list))\n",
    "    df = pd.concat(df_list, axis=0, ignore_index=True)\n",
    "    return df"
   ]
  },
  {
   "cell_type": "markdown",
   "metadata": {},
   "source": [
    "## Fichiers bruts"
   ]
  },
  {
   "cell_type": "code",
   "execution_count": null,
   "metadata": {},
   "outputs": [
    {
     "name": "stdout",
     "output_type": "stream",
     "text": [
      "Nombre de fichiers textes                        :  3837\n",
      "Nombre de clips (phrases) extraits des textes    : 44977\n",
      "Nombre de clips (phrases) moyen par fichier texte:    12\n"
     ]
    }
   ],
   "source": [
    "audio_info = get_audio_info_from_text(text_dir)\n",
    "print(f\"Nombre de fichiers textes                        : \",\n",
    "      f\"{len(audio_info['file_id'].unique())}\")\n",
    "print(f\"Nombre de clips (phrases) extraits des textes    : {audio_info.shape[0]}\")\n",
    "print(f\"Nombre de clips (phrases) moyen par fichier texte:   \",\n",
    "      f\"{round(audio_info.shape[0]/len(audio_info['file_id'].unique()))}\")"
   ]
  },
  {
   "cell_type": "code",
   "execution_count": null,
   "metadata": {},
   "outputs": [
    {
     "data": {
      "text/html": [
       "<div>\n",
       "<style scoped>\n",
       "    .dataframe tbody tr th:only-of-type {\n",
       "        vertical-align: middle;\n",
       "    }\n",
       "\n",
       "    .dataframe tbody tr th {\n",
       "        vertical-align: top;\n",
       "    }\n",
       "\n",
       "    .dataframe thead th {\n",
       "        text-align: right;\n",
       "    }\n",
       "</style>\n",
       "<table border=\"1\" class=\"dataframe\">\n",
       "  <thead>\n",
       "    <tr style=\"text-align: right;\">\n",
       "      <th></th>\n",
       "      <th>file_id</th>\n",
       "      <th>clip_id</th>\n",
       "      <th>start_time</th>\n",
       "      <th>end_time</th>\n",
       "    </tr>\n",
       "  </thead>\n",
       "  <tbody>\n",
       "    <tr>\n",
       "      <th>0</th>\n",
       "      <td>xYtNgq9eTlg</td>\n",
       "      <td>0</td>\n",
       "      <td>0.000</td>\n",
       "      <td>17.943</td>\n",
       "    </tr>\n",
       "    <tr>\n",
       "      <th>1</th>\n",
       "      <td>xYtNgq9eTlg</td>\n",
       "      <td>1</td>\n",
       "      <td>17.342</td>\n",
       "      <td>25.376</td>\n",
       "    </tr>\n",
       "    <tr>\n",
       "      <th>2</th>\n",
       "      <td>xYtNgq9eTlg</td>\n",
       "      <td>2</td>\n",
       "      <td>24.755</td>\n",
       "      <td>30.255</td>\n",
       "    </tr>\n",
       "    <tr>\n",
       "      <th>3</th>\n",
       "      <td>xYtNgq9eTlg</td>\n",
       "      <td>3</td>\n",
       "      <td>29.554</td>\n",
       "      <td>36.331</td>\n",
       "    </tr>\n",
       "    <tr>\n",
       "      <th>4</th>\n",
       "      <td>xYtNgq9eTlg</td>\n",
       "      <td>4</td>\n",
       "      <td>35.700</td>\n",
       "      <td>39.494</td>\n",
       "    </tr>\n",
       "  </tbody>\n",
       "</table>\n",
       "</div>"
      ],
      "text/plain": [
       "       file_id  clip_id  start_time  end_time\n",
       "0  xYtNgq9eTlg        0       0.000    17.943\n",
       "1  xYtNgq9eTlg        1      17.342    25.376\n",
       "2  xYtNgq9eTlg        2      24.755    30.255\n",
       "3  xYtNgq9eTlg        3      29.554    36.331\n",
       "4  xYtNgq9eTlg        4      35.700    39.494"
      ]
     },
     "execution_count": 112,
     "metadata": {},
     "output_type": "execute_result"
    }
   ],
   "source": [
    "audio_info.head()"
   ]
  },
  {
   "cell_type": "code",
   "execution_count": null,
   "metadata": {},
   "outputs": [],
   "source": [
    "def get_audio_file_ids(audio_dir):\n",
    "    '''\n",
    "        audio_dir: répertoire contenant les fichiers audio\n",
    "        retrourne le nom des fichiers du répertoire (sans .wav)\n",
    "    '''\n",
    "    file_ids = []\n",
    "    audio_files = glob.glob(f\"{audio_dir}/*.wav\")\n",
    "    for file in audio_files:\n",
    "        file_ids.append(file.split('/')[-1].split('.')[0])\n",
    "    return file_ids"
   ]
  },
  {
   "cell_type": "code",
   "execution_count": null,
   "metadata": {},
   "outputs": [
    {
     "name": "stdout",
     "output_type": "stream",
     "text": [
      "3837 fichiers audio dans ../data/raw/audio\n"
     ]
    }
   ],
   "source": [
    "audio_ids = get_audio_file_ids(audio_dir)\n",
    "print(f\"{len(audio_ids)} fichiers audio dans {audio_dir}\")"
   ]
  },
  {
   "cell_type": "markdown",
   "metadata": {},
   "source": [
    "On voit que le nombre de fichiers audio et texte concordent."
   ]
  },
  {
   "cell_type": "code",
   "execution_count": null,
   "metadata": {},
   "outputs": [],
   "source": [
    "def compare_ids(ids_list1, ids_list2):\n",
    "\n",
    "    ids1_not_in_ids2 = []\n",
    "    for i in ids_list1:\n",
    "        if i not in ids_list2:\n",
    "            ids1_not_in_ids2.append(i)\n",
    "    return ids1_not_in_ids2"
   ]
  },
  {
   "cell_type": "code",
   "execution_count": null,
   "metadata": {},
   "outputs": [
    {
     "name": "stdout",
     "output_type": "stream",
     "text": [
      "Nombre de fichiers audios n'apparaissant pas dans les textes:  0\n",
      "Fichiers textes n'apparaissant pas dans les fichiers audio  :  0\n"
     ]
    }
   ],
   "source": [
    "audio_not_in_text = \\\n",
    "    compare_ids(audio_ids, audio_info['file_id'].values)\n",
    "print(\"Nombre de fichiers audios n'apparaissant pas dans les textes: \",\n",
    "      len(audio_not_in_text))\n",
    "text_not_in_audio = \\\n",
    "    compare_ids(audio_info['file_id'].values, audio_ids)\n",
    "print(f\"Fichiers textes n'apparaissant pas dans les fichiers audio  : \",\n",
    "      len(text_not_in_audio))"
   ]
  },
  {
   "cell_type": "markdown",
   "metadata": {},
   "source": [
    "## Fichiers audio n'étant pas étiquetés (pas dans labels)"
   ]
  },
  {
   "cell_type": "code",
   "execution_count": null,
   "metadata": {},
   "outputs": [
    {
     "name": "stdout",
     "output_type": "stream",
     "text": [
      "Nombre de fichiers audio avant séparation en clips             :  3837\n",
      "Nombre de fichiers audio n'apparaissant pas dans les labels    :   532\n",
      "Nombre de fichiers audio ayant au moins un clip dans les labels:  3305\n"
     ]
    }
   ],
   "source": [
    "print(\"Nombre de fichiers audio avant séparation en clips             : \",\n",
    "      len(audio_ids))\n",
    "files_not_in_labels = \\\n",
    "    compare_ids(audio_ids, df_labels['file_id'].values)\n",
    "print(\"Nombre de fichiers audio n'apparaissant pas dans les labels    :  \",\n",
    "      len(files_not_in_labels))\n",
    "\n",
    "files_labeled = len(audio_ids) - len(files_not_in_labels)\n",
    "print(\"Nombre de fichiers audio ayant au moins un clip dans les labels: \",\n",
    "      files_labeled)"
   ]
  },
  {
   "cell_type": "markdown",
   "metadata": {},
   "source": [
    "## Calcul de la longueur des clips"
   ]
  },
  {
   "cell_type": "code",
   "execution_count": null,
   "metadata": {},
   "outputs": [],
   "source": [
    "audio_info['clip_len'] = \\\n",
    "    audio_info.apply(lambda x : x['end_time'] - x['start_time'], axis=1)"
   ]
  },
  {
   "cell_type": "code",
   "execution_count": null,
   "metadata": {},
   "outputs": [
    {
     "name": "stdout",
     "output_type": "stream",
     "text": [
      "\n",
      "Nombre total de clips (phrases)   : 44977\n",
      "Nombre moyen de clips par fichier : 11.7\n",
      "Nombre médian de clips par fichier: 10.0\n"
     ]
    }
   ],
   "source": [
    "clips_count = audio_info['file_id'].value_counts()\n",
    "# print(clips_count[:5])\n",
    "# print(clips_count[-5:])\n",
    "print(\"\")\n",
    "print(f\"Nombre total de clips (phrases)   : {clips_count.sum()}\")\n",
    "print(f\"Nombre moyen de clips par fichier : {round(clips_count.mean(), 1)}\")\n",
    "print(f\"Nombre médian de clips par fichier: {clips_count.median()}\")"
   ]
  },
  {
   "cell_type": "code",
   "execution_count": null,
   "metadata": {},
   "outputs": [],
   "source": [
    "no_label_clips = []\n",
    "no_label_index = []\n",
    "for f in audio_ids:\n",
    "    df_aud = audio_info[audio_info['file_id'] == f]\n",
    "    file_clips = df_aud['clip_id'].to_list()\n",
    "    df_lab = df_labels[df_labels['file_id'] == f]\n",
    "    for c in file_clips:\n",
    "        if df_lab[df_lab['clip_id'] == c]['file_id'].count() == 0:\n",
    "            no_label_clips.append([f, c])\n",
    "            no_label_index.append(audio_info[(audio_info['file_id'] == f) & \\\n",
    "                                    (audio_info['clip_id'] == c)].index[0])"
   ]
  },
  {
   "cell_type": "markdown",
   "metadata": {},
   "source": [
    "## DataFrame contenant les clips annotés seulement"
   ]
  },
  {
   "cell_type": "code",
   "execution_count": null,
   "metadata": {},
   "outputs": [
    {
     "data": {
      "text/html": [
       "<div>\n",
       "<style scoped>\n",
       "    .dataframe tbody tr th:only-of-type {\n",
       "        vertical-align: middle;\n",
       "    }\n",
       "\n",
       "    .dataframe tbody tr th {\n",
       "        vertical-align: top;\n",
       "    }\n",
       "\n",
       "    .dataframe thead th {\n",
       "        text-align: right;\n",
       "    }\n",
       "</style>\n",
       "<table border=\"1\" class=\"dataframe\">\n",
       "  <thead>\n",
       "    <tr style=\"text-align: right;\">\n",
       "      <th></th>\n",
       "      <th>file_id</th>\n",
       "      <th>clip_id</th>\n",
       "      <th>start_time</th>\n",
       "      <th>end_time</th>\n",
       "      <th>clip_len</th>\n",
       "    </tr>\n",
       "  </thead>\n",
       "  <tbody>\n",
       "    <tr>\n",
       "      <th>0</th>\n",
       "      <td>xYtNgq9eTlg</td>\n",
       "      <td>0</td>\n",
       "      <td>0.000</td>\n",
       "      <td>17.943</td>\n",
       "      <td>17.943</td>\n",
       "    </tr>\n",
       "    <tr>\n",
       "      <th>1</th>\n",
       "      <td>xYtNgq9eTlg</td>\n",
       "      <td>1</td>\n",
       "      <td>17.342</td>\n",
       "      <td>25.376</td>\n",
       "      <td>8.034</td>\n",
       "    </tr>\n",
       "    <tr>\n",
       "      <th>2</th>\n",
       "      <td>xYtNgq9eTlg</td>\n",
       "      <td>2</td>\n",
       "      <td>24.755</td>\n",
       "      <td>30.255</td>\n",
       "      <td>5.500</td>\n",
       "    </tr>\n",
       "    <tr>\n",
       "      <th>3</th>\n",
       "      <td>xYtNgq9eTlg</td>\n",
       "      <td>3</td>\n",
       "      <td>29.554</td>\n",
       "      <td>36.331</td>\n",
       "      <td>6.777</td>\n",
       "    </tr>\n",
       "    <tr>\n",
       "      <th>4</th>\n",
       "      <td>xYtNgq9eTlg</td>\n",
       "      <td>4</td>\n",
       "      <td>35.700</td>\n",
       "      <td>39.494</td>\n",
       "      <td>3.794</td>\n",
       "    </tr>\n",
       "  </tbody>\n",
       "</table>\n",
       "</div>"
      ],
      "text/plain": [
       "       file_id  clip_id  start_time  end_time  clip_len\n",
       "0  xYtNgq9eTlg        0       0.000    17.943    17.943\n",
       "1  xYtNgq9eTlg        1      17.342    25.376     8.034\n",
       "2  xYtNgq9eTlg        2      24.755    30.255     5.500\n",
       "3  xYtNgq9eTlg        3      29.554    36.331     6.777\n",
       "4  xYtNgq9eTlg        4      35.700    39.494     3.794"
      ]
     },
     "execution_count": 120,
     "metadata": {},
     "output_type": "execute_result"
    }
   ],
   "source": [
    "audio_labeled = audio_info.drop(index=no_label_index)\n",
    "audio_labeled.head()"
   ]
  },
  {
   "cell_type": "markdown",
   "metadata": {},
   "source": [
    "## Temps total des clips annotés"
   ]
  },
  {
   "cell_type": "code",
   "execution_count": null,
   "metadata": {},
   "outputs": [],
   "source": [
    "def convert_secs(seconds):\n",
    "    min, sec = divmod(seconds, 60)\n",
    "    hour, min = divmod(min, 60)\n",
    "    return \"%d:%02d:%02d\" % (hour, min, sec)"
   ]
  },
  {
   "cell_type": "code",
   "execution_count": null,
   "metadata": {},
   "outputs": [
    {
     "name": "stdout",
     "output_type": "stream",
     "text": [
      "Nombre total de clips        : 44977\n",
      "Nombre de clips non-annotés  : 21718\n",
      "Nombre de clips annotés      : 23259\n",
      "Pourcentage de clips annotés : 51.71 %\n",
      "Temps des clips annotés      : 49:04:41 heures\n"
     ]
    }
   ],
   "source": [
    "tot_clips = audio_info.shape[0]\n",
    "not_annot_clips = len(no_label_clips)\n",
    "annot_clips = tot_clips - not_annot_clips\n",
    "print(f\"Nombre total de clips        : {tot_clips}\")\n",
    "print(f\"Nombre de clips non-annotés  : {not_annot_clips}\")\n",
    "print(f\"Nombre de clips annotés      : {annot_clips}\")\n",
    "print(\"Pourcentage de clips annotés :\",\n",
    "      f\"{round(annot_clips/tot_clips * 100,2)} %\")\n",
    "time_clips_labeled = convert_secs(audio_labeled['clip_len'].sum())\n",
    "print(f\"Temps des clips annotés      : {time_clips_labeled} heures\")"
   ]
  },
  {
   "cell_type": "code",
   "execution_count": null,
   "metadata": {},
   "outputs": [
    {
     "data": {
      "image/png": "[encoded data removed]",
      "text/plain": [
       "<Figure size 1152x504 with 1 Axes>"
      ]
     },
     "metadata": {
      "needs_background": "light"
     },
     "output_type": "display_data"
    }
   ],
   "source": [
    "plt.figure(figsize=(16, 7))\n",
    "plt.title(\"Distibution du nombre de clips par fichier\", fontsize=18)\n",
    "plt.hist(clip_count, bins=30)\n",
    "plt.show()"
   ]
  },
  {
   "cell_type": "code",
   "execution_count": null,
   "metadata": {},
   "outputs": [
    {
     "name": "stdout",
     "output_type": "stream",
     "text": [
      "266396         98\n",
      "Wx9nThz5z_Y    58\n",
      "266938         55\n",
      "YcJ5RJYUr7Y    53\n",
      "ogGweZUAVtU    52\n",
      "j1m6ctAgjsM    52\n",
      "Name: file_id, dtype: int64\n"
     ]
    }
   ],
   "source": [
    "print(clip_count[clip_count > 50])"
   ]
  },
  {
   "cell_type": "code",
   "execution_count": null,
   "metadata": {},
   "outputs": [
    {
     "data": {
      "image/png": "[encoded data removed]",
      "text/plain": [
       "<Figure size 1152x504 with 1 Axes>"
      ]
     },
     "metadata": {
      "needs_background": "light"
     },
     "output_type": "display_data"
    }
   ],
   "source": [
    "len_bins = 40\n",
    "plt.figure(figsize=(16, 7))\n",
    "plt.title(\"Distibution de la longueur des de clips en secondes\", fontsize=18)\n",
    "plt.hist(audio_info['clip_len'], bins=len_bins)\n",
    "plt.show()"
   ]
  },
  {
   "cell_type": "code",
   "execution_count": null,
   "metadata": {},
   "outputs": [
    {
     "data": {
      "image/png": "[encoded data removed]",
      "text/plain": [
       "<Figure size 1152x504 with 1 Axes>"
      ]
     },
     "metadata": {
      "needs_background": "light"
     },
     "output_type": "display_data"
    }
   ],
   "source": [
    "len_bins = 40\n",
    "plt.figure(figsize=(16, 7))\n",
    "plt.title(\"Distibution de la longueur des de clips annotés en secondes\", fontsize=18)\n",
    "plt.hist(audio_labeled['clip_len'], bins=len_bins)\n",
    "plt.show()"
   ]
  },
  {
   "cell_type": "code",
   "execution_count": null,
   "metadata": {},
   "outputs": [
    {
     "name": "stdout",
     "output_type": "stream",
     "text": [
      "Longueur moyenne des clips : 7.3610167255050305 sec.\n",
      "Longueur médiane des clips : 6.0185941043 sec.\n",
      "Longueur minimale des clips: 0.11972789120000016 sec.\n",
      "Longueur maximale des clips: 143.656 sec.\n"
     ]
    }
   ],
   "source": [
    "print(f\"Longueur moyenne des clips : {audio_info['clip_len'].mean()} sec.\")\n",
    "print(f\"Longueur médiane des clips : {audio_info['clip_len'].median()} sec.\")\n",
    "print(f\"Longueur minimale des clips: {audio_info['clip_len'].min()} sec.\")\n",
    "print(f\"Longueur maximale des clips: {audio_info['clip_len'].max()} sec.\")"
   ]
  },
  {
   "cell_type": "markdown",
   "metadata": {},
   "source": [
    "# EDA STRICTEMENT TEXTE"
   ]
  },
  {
   "cell_type": "code",
   "execution_count": null,
   "metadata": {},
   "outputs": [],
   "source": [
    "text_files = glob.glob(f\"{text_dir}/*.txt\")\n",
    "\n",
    "def remove_stamps_str(line)->str:\n",
    "    stamp = re.search('.+___', line).group(0)\n",
    "    new_line = line.strip(stamp)\n",
    "    return new_line"
   ]
  },
  {
   "cell_type": "markdown",
   "metadata": {},
   "source": [
    "## REVOIR, long"
   ]
  },
  {
   "cell_type": "code",
   "execution_count": null,
   "metadata": {},
   "outputs": [],
   "source": [
    "text_list = []\n",
    "for filename in text_files:\n",
    "    text = ''\n",
    "    with open(file=filename, encoding='utf-8') as f:\n",
    "        lines = f.readlines()\n",
    "        for line in lines:\n",
    "            clean_line = remove_stamps_str(line)\n",
    "            text += clean_line\n",
    "    text_list.append(text.splitlines())\n"
   ]
  },
  {
   "cell_type": "markdown",
   "metadata": {},
   "source": [
    "### Fonctions de nettoyage"
   ]
  },
  {
   "cell_type": "code",
   "execution_count": null,
   "metadata": {},
   "outputs": [],
   "source": [
    "def avg_count(l1:list):\n",
    "    word_count = 0\n",
    "    for e in l1:\n",
    "        word_count += len(e.split())\n",
    "    return int(word_count/len(l1))\n",
    "\n",
    "text_files = glob.glob(f\"{text_dir}/*.txt\")\n",
    "stop_words = stopwords.words('English')\n",
    "\n",
    "#création d'un dict pour lookup en O(1)\n",
    "stopwords_dict = Counter(stop_words)\n",
    "\n",
    "\n",
    "#Retire tous les timestamps en début de ligne, présents dans chaque transcript\n",
    "def remove_stamps_str(line)->str:\n",
    "    stamp = re.search('.+___', line).group(0)\n",
    "    new_line = line.strip(stamp)\n",
    "    return new_line\n",
    "\n",
    "#Retire les charactères non-ascii \n",
    "def remove_non_ascii(line)->str:\n",
    "    ascii_line = line.encode(encoding = 'ascii', errors = 'ignore').decode()\n",
    "    return ascii_line\n",
    "\n",
    "#met tout en minuscules, retire les nombres et stopwords\n",
    "def clean_stopwords_digits(line)->str:\n",
    "    new_line = ' '.join([word.lower() for word in line.split() if (len(word) >=2 and word.isalpha() and word not in stopwords_dict)])\n",
    "    return new_line\n",
    "\n",
    "\n",
    "\n",
    "\n",
    "\n"
   ]
  },
  {
   "cell_type": "code",
   "execution_count": null,
   "metadata": {},
   "outputs": [],
   "source": [
    "df_text = pd.DataFrame((np.array(text_list, dtype= object)).reshape(-1))\n",
    "df_text.columns = ['raw_text']\n",
    "df_text['tokens'] = df_text['raw_text'].apply(lambda l : word_tokenize(' '.join(l)))\n",
    "\n",
    "df_text['lines'] = df_text['raw_text'].apply(lambda x : len(x))\n",
    "df_text['avg_count'] = df_text['raw_text'].apply(avg_count)\n",
    "df_text['word_count'] = df_text['tokens'].apply(len)\n",
    "df_text['raw_text'] = df_text['raw_text'].apply(lambda x : ' '.join(x))\n",
    "df_text['cleaned_text'] = df_text['raw_text'].apply(clean_stopwords_digits)\n",
    "\n",
    "#words_lengths = df_text['tokens'].apply(lambda array : list(map(len, array))).explode()"
   ]
  },
  {
   "cell_type": "code",
   "execution_count": null,
   "metadata": {},
   "outputs": [],
   "source": [
    "wordcount = df_text['cleaned_text'].str.split(expand=True).stack().value_counts()\n",
    "wordcount"
   ]
  },
  {
   "cell_type": "code",
   "execution_count": null,
   "metadata": {},
   "outputs": [],
   "source": [
    "wordcloud = WordCloud(width = 800, height = 800,\n",
    "                background_color ='white', stopwords=stop_words,\n",
    "                \n",
    "                min_font_size = 10).generate_from_frequencies(wordcount)\n",
    "\n",
    "plt.figure(figsize = (8, 8))\n",
    "plt.imshow(wordcloud)\n",
    "plt.axis(\"off\")\n",
    "plt.tight_layout(pad = 0)\n",
    "plt.show()"
   ]
  },
  {
   "cell_type": "markdown",
   "metadata": {},
   "source": [
    "nettoyage initial"
   ]
  },
  {
   "cell_type": "code",
   "execution_count": null,
   "metadata": {},
   "outputs": [],
   "source": [
    "\n",
    "\"\"\"\n",
    "\n",
    "def list_files_paths(root_dir):\n",
    "    files_paths = []\n",
    "    for subdir, dirs, files in os.walk(root_dir):\n",
    "        for filename in files:\n",
    "            file_path = os.path.join(subdir, filename)\n",
    "            files_paths.append(file_path)\n",
    "    return files_paths\n",
    "\n",
    "def list_filenames(root_dir):\n",
    "    filenames = []\n",
    "    for subdir, dirs, files in os.walk(root_dir):\n",
    "        for filename in files:\n",
    "            filenames.append(filename)\n",
    "    return filenames\n",
    "\n",
    "\n",
    "\n",
    "\n",
    "def clean_text(text_file):\n",
    "    cleaned_text = ''\n",
    "    with open(text_dir+text_file, 'r', encoding='utf-8') as f:\n",
    "        lines = f.readlines()\n",
    "        for line in lines:\n",
    "            \n",
    "            #timestamps en début de ligne\n",
    "            stamp = re.search('.+___', line).group(0)\n",
    "            \n",
    "            #retrait des timestamps et élimine tous les \"mots\" qui sont en fait des nombres\n",
    "            newline = ' '.join([word.lower() for word in line.strip(stamp).split() if (word.isalpha() and word not in stopwords_dict)]) + '\\n'\n",
    "\n",
    "            # méthode alternative pour retirer les charactères\n",
    "            #newline = re.sub(r'[^\\x00-\\x7f]','',newline)\n",
    "\n",
    "            #Tous les charactères non-ASCII sont retirés\n",
    "            decoded_line = newline.encode(encoding='ascii', errors='ignore').decode()\n",
    "            cleaned_text += decoded_line\n",
    "    return cleaned_text\n",
    "\"\"\"\n",
    "\n",
    "def copy_clean_file(text_file, target_directory):\n",
    "    with open(target_directory+text_file, 'w', encoding='utf-8') as f_out:\n",
    "        f_out.write(clean_text(text_file))\n",
    "\n",
    "\n",
    "def clean_corpus(source_directory, target_directory):\n",
    "    for filename in list_filenames(source_directory):\n",
    "        copy_clean_file(filename, target_directory)\n",
    "\n",
    "#clean_corpus(text_dir, cleaned_dir)"
   ]
  }
 ],
 "metadata": {
  "interpreter": {
   "hash": "ad9dd8c65e1acb925537adb8bfa3fbf75c452ad167eaeefbb822509998da4973"
  },
  "kernelspec": {
   "display_name": "Python 3.10.4 ('emotion')",
   "language": "python",
   "name": "python3"
  },
  "language_info": {
   "codemirror_mode": {
    "name": "ipython",
    "version": 3
   },
   "file_extension": ".py",
   "mimetype": "text/x-python",
   "name": "python",
   "nbconvert_exporter": "python",
   "pygments_lexer": "ipython3",
   "version": "3.10.4"
  }
 },
 "nbformat": 4,
 "nbformat_minor": 2
}
